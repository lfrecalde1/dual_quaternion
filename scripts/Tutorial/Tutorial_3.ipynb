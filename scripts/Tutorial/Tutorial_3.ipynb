{
 "cells": [
  {
   "cell_type": "markdown",
   "id": "b68f6b2d",
   "metadata": {},
   "source": [
    "## Import Libraries"
   ]
  },
  {
   "cell_type": "code",
   "execution_count": 40,
   "id": "ad7580e4",
   "metadata": {},
   "outputs": [],
   "source": [
    "import time\n",
    "import rospy\n",
    "import numpy as np\n",
    "import casadi as ca\n",
    "import numpy as np\n",
    "import matplotlib.pyplot as plt\n",
    "from dual_quaternion import Quaternion\n",
    "from dual_quaternion import DualQuaternion\n",
    "from casadi import Function"
   ]
  },
  {
   "cell_type": "markdown",
   "id": "0d8fa1b6",
   "metadata": {},
   "source": [
    "## Working with Symbolic Variables"
   ]
  },
  {
   "cell_type": "code",
   "execution_count": 41,
   "id": "25695c40",
   "metadata": {},
   "outputs": [],
   "source": [
    "# Defining First transformation\n",
    "theta_1 = ca.MX.sym('theta_1', 1, 1)\n",
    "n_1 = ca.MX([0.0, 0.0, 1.0])\n",
    "q_1 = ca.vertcat(ca.cos(theta_1/2), ca.sin(theta_1/2)@n_1)\n",
    "t_1 = ca.MX([0.0, 0.0, 0.0, 0.0])\n",
    "\n",
    "# Defining second transformation\n",
    "theta_2 = ca.MX.sym('theta_2', 1, 1)\n",
    "n_2 = ca.MX([0.0, 0.0, 1.0])\n",
    "q_2 = ca.vertcat(ca.cos(theta_2/2), ca.sin(theta_2/2)@n_2)\n",
    "tx_2 = ca.MX.sym(\"x_2\", 1, 1)\n",
    "t_2 = ca.vertcat(0.0, tx_2, 0.0, 0.0)\n",
    "\n",
    "# Defining third transformation\n",
    "theta_3 = ca.MX.sym('theta_3', 1, 1)\n",
    "n_3 = ca.MX([0.0, 0.0, 1.0])\n",
    "q_3 = ca.vertcat(ca.cos(theta_3/2), ca.sin(theta_3/2)@n_3)\n",
    "tx_3 = ca.MX.sym(\"x_3\", 1, 1)\n",
    "t_3 = ca.vertcat(0.0, tx_3, 0.0, 0.0)\n",
    "\n",
    "aux_symbolic_total = ca.vertcat(theta_1, theta_2, tx_2, theta_3, tx_3)\n",
    "symbolic_actions = ca.vertcat(theta_1, theta_2, theta_3)"
   ]
  },
  {
   "cell_type": "code",
   "execution_count": 42,
   "id": "cd84a3d1",
   "metadata": {},
   "outputs": [],
   "source": [
    "Q1 = DualQuaternion.from_pose(quat = q_1, trans = t_1)\n",
    "Q2 = DualQuaternion.from_pose(quat = q_2, trans = t_2)\n",
    "Q3 = DualQuaternion.from_pose(quat = q_3, trans = t_3)"
   ]
  },
  {
   "cell_type": "code",
   "execution_count": 43,
   "id": "bac04b5c",
   "metadata": {},
   "outputs": [],
   "source": [
    "Q4 = Q1 * Q2 * Q3"
   ]
  },
  {
   "cell_type": "code",
   "execution_count": 44,
   "id": "04600667",
   "metadata": {},
   "outputs": [],
   "source": [
    "Function_DualQuat_total = Function('DualQuat_total', [aux_symbolic_total], [Q4.get[:, 0]])\n",
    "Function_DualQuat_total_trans = Function('DualQuat_total_trans', [aux_symbolic_total], [Q4.get_trans.get[:, 0]])\n",
    "Function_DualQuat_total_quat = Function('DualQuat_total_quat', [aux_symbolic_total], [Q4.get_quat.get[:, 0]])"
   ]
  },
  {
   "cell_type": "code",
   "execution_count": 45,
   "id": "04ebe233",
   "metadata": {},
   "outputs": [],
   "source": [
    "input_t = np.array([np.pi/2, np.pi/2, 2, -np.pi/4, 3])\n",
    "\n",
    "trans_t = Function_DualQuat_total_trans(input_t)\n",
    "quat_t = Function_DualQuat_total_quat(input_t)\n",
    "Quat_t = Function_DualQuat_total(input_t)"
   ]
  },
  {
   "cell_type": "code",
   "execution_count": 46,
   "id": "2290cd15",
   "metadata": {},
   "outputs": [
    {
     "data": {
      "text/plain": [
       "DM([-0, -3, 2, 0])"
      ]
     },
     "execution_count": 46,
     "metadata": {},
     "output_type": "execute_result"
    }
   ],
   "source": [
    "trans_t"
   ]
  },
  {
   "cell_type": "code",
   "execution_count": 47,
   "id": "3630f332",
   "metadata": {},
   "outputs": [
    {
     "data": {
      "text/plain": [
       "DM([0.382683, 0, 0, 0.92388])"
      ]
     },
     "execution_count": 47,
     "metadata": {},
     "output_type": "execute_result"
    }
   ],
   "source": [
    "quat_t"
   ]
  },
  {
   "cell_type": "code",
   "execution_count": 48,
   "id": "5dc02959",
   "metadata": {},
   "outputs": [
    {
     "data": {
      "text/plain": [
       "DM([0.382683, 0, 0, 0.92388, -0, 0.349854, 1.7685, 0])"
      ]
     },
     "execution_count": 48,
     "metadata": {},
     "output_type": "execute_result"
    }
   ],
   "source": [
    "Quat_t"
   ]
  },
  {
   "cell_type": "markdown",
   "id": "0dedcee1",
   "metadata": {},
   "source": [
    "### Calculating Jacobians"
   ]
  },
  {
   "cell_type": "code",
   "execution_count": 50,
   "id": "f7170792",
   "metadata": {},
   "outputs": [],
   "source": [
    "J = ca.jacobian(Q4.get[:, 0], symbolic_actions)"
   ]
  },
  {
   "cell_type": "code",
   "execution_count": 51,
   "id": "779bfc86",
   "metadata": {},
   "outputs": [],
   "source": [
    "Function_J = Function(\"Function_F\", [aux_symbolic_total], [J])"
   ]
  },
  {
   "cell_type": "code",
   "execution_count": 52,
   "id": "13f60f84",
   "metadata": {},
   "outputs": [
    {
     "data": {
      "text/plain": [
       "(8, 3)"
      ]
     },
     "execution_count": 52,
     "metadata": {},
     "output_type": "execute_result"
    }
   ],
   "source": [
    "J.shape"
   ]
  },
  {
   "cell_type": "code",
   "execution_count": null,
   "id": "1af84c86",
   "metadata": {},
   "outputs": [],
   "source": []
  }
 ],
 "metadata": {
  "kernelspec": {
   "display_name": "Python 3.8.18 ('dual_quat')",
   "language": "python",
   "name": "python3"
  },
  "language_info": {
   "codemirror_mode": {
    "name": "ipython",
    "version": 3
   },
   "file_extension": ".py",
   "mimetype": "text/x-python",
   "name": "python",
   "nbconvert_exporter": "python",
   "pygments_lexer": "ipython3",
   "version": "3.8.18"
  },
  "vscode": {
   "interpreter": {
    "hash": "55fd25a4db1577015ee8267fb6134e577a469327f1df3f42c7ba64281f9f75b9"
   }
  }
 },
 "nbformat": 4,
 "nbformat_minor": 5
}
