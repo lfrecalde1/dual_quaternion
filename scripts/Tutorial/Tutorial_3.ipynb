{
 "cells": [
  {
   "cell_type": "code",
   "execution_count": 3,
   "metadata": {},
   "outputs": [],
   "source": [
    "\n"
   ]
  },
  {
   "cell_type": "markdown",
   "id": "b68f6b2d",
   "metadata": {},
   "source": [
    "## Import Libraries"
   ]
  },
  {
   "cell_type": "code",
   "execution_count": 8,
   "id": "ad7580e4",
   "metadata": {},
   "outputs": [],
   "source": [
    "import time\n",
    "import rospy\n",
    "import numpy as np\n",
    "import casadi as ca\n",
    "import numpy as np\n",
    "import matplotlib.pyplot as plt\n",
    "from dual_quaternion import Quaternion\n",
    "from dual_quaternion import DualQuaternion\n",
    "from dual_quaternion import plot_states_quaternion, plot_states_position, fancy_plots_4, fancy_plots_1, plot_norm_quat, plot_angular_velocities, plot_linear_velocities, fancy_plots_3, plot_norm_real, plot_norm_dual\n",
    "from scipy.spatial.transform import Rotation as R\n",
    "from nav_msgs.msg import Odometry"
   ]
  },
  {
   "cell_type": "markdown",
   "id": "5adb8ab1",
   "metadata": {},
   "source": [
    "## Working with numeric Entries"
   ]
  },
  {
   "cell_type": "code",
   "execution_count": 9,
   "id": "3e8cb56b",
   "metadata": {},
   "outputs": [],
   "source": [
    "\n",
    "# Defining of the vectors using casadi\n",
    "theta1 = ca.SX([np.pi/2])\n",
    "n1 = ca.SX([0.0, 0.0, 1.0])\n",
    "q1 = ca.vertcat(ca.cos(theta1/2), ca.sin(theta1/2)@n1)\n",
    "t1 = ca.SX([0.0, 1.0, 1.0, 0.0])\n",
    "\n",
    "# Defining of the vectors using casadi\n",
    "theta2 = ca.SX([ca.pi/4])\n",
    "n2 = ca.SX([1.0, 0.0, 0.0])\n",
    "q2 = ca.vertcat(ca.cos(theta2/2), ca.sin(theta2/2)@n2)\n",
    "t2 = ca.SX([0.0, 0.0, 2.0, 0.0])\n",
    "\n",
    "\n",
    "# Init Dualquaternion\n",
    "Q1 = DualQuaternion.from_pose(quat = q1, trans = t1)\n",
    "Q2 = DualQuaternion.from_pose(quat = q2, trans = t2)"
   ]
  },
  {
   "cell_type": "code",
   "execution_count": 10,
   "id": "163c4d86",
   "metadata": {},
   "outputs": [
    {
     "data": {
      "text/plain": [
       "SX(@1=0, @2=1, [@1, @2, @2, @1])"
      ]
     },
     "execution_count": 10,
     "metadata": {},
     "output_type": "execute_result"
    }
   ],
   "source": [
    "Q1.get_trans.get[:, 0]"
   ]
  },
  {
   "cell_type": "code",
   "execution_count": 11,
   "id": "d94a0f43",
   "metadata": {},
   "outputs": [
    {
     "data": {
      "text/plain": [
       "Quaternion: @1=0, @2=1, [@1, @2, @2, @1]"
      ]
     },
     "execution_count": 11,
     "metadata": {},
     "output_type": "execute_result"
    }
   ],
   "source": [
    "Q1.get_trans"
   ]
  },
  {
   "cell_type": "markdown",
   "id": "0d8fa1b6",
   "metadata": {},
   "source": [
    "## Working with Symbolic Variables"
   ]
  },
  {
   "cell_type": "code",
   "execution_count": 17,
   "id": "25695c40",
   "metadata": {},
   "outputs": [],
   "source": [
    "theta_1 = ca.MX.sym('theta_1', 1)\n",
    "n_1 = ca.MX([0.0, 0.0, 1.0])\n",
    "q_1 = ca.vertcat(ca.cos(theta_1/2), ca.sin(theta_1/2)@n_1)\n",
    "tx_1 = ca.MX.sym(\"x_1\", 1)\n",
    "ty_1 = ca.MX.sym(\"y_1\", 1)\n",
    "t_1 = ca.vertcat(0.0, tx_1, ty_1, 0.0)"
   ]
  },
  {
   "cell_type": "code",
   "execution_count": 18,
   "id": "fa91c61c",
   "metadata": {},
   "outputs": [],
   "source": [
    "Q1 = DualQuaternion.from_pose(quat = q_1, trans = t_1)"
   ]
  },
  {
   "cell_type": "code",
   "execution_count": 19,
   "id": "c12442a9",
   "metadata": {},
   "outputs": [
    {
     "data": {
      "text/plain": [
       "DualQuaternion(Qr=Quaternion: vertcat(cos((theta_1/2)), ([0, 0, 1]*sin((theta_1/2)))), Qd=Quaternion: @1=vertcat(0, x_1, y_1, 0), @2=([0, 0, 1]*sin((theta_1/2))), @3=@2[2], (0.5*vertcat((-dot(@1[1:4], @2)), ((cos((theta_1/2))*@1[1:4])+vertcat((y_1*@3), (-(x_1*@3)), ((x_1*@2[1])-(y_1*@2[0])))))))"
      ]
     },
     "execution_count": 19,
     "metadata": {},
     "output_type": "execute_result"
    }
   ],
   "source": [
    "Q1"
   ]
  },
  {
   "cell_type": "code",
   "execution_count": 20,
   "id": "6547cd6d",
   "metadata": {},
   "outputs": [
    {
     "data": {
      "text/plain": [
       "MX(@1=vertcat(0, x_1, y_1, 0), @2=([0, 0, 1]*sin((theta_1/2))), @3=cos((theta_1/2)), @4=@2[2], @5=(2.*(0.5*vertcat((-dot(@1[1:4], @2)), ((@3*@1[1:4])+vertcat((y_1*@4), (-(x_1*@4)), ((x_1*@2[1])-(y_1*@2[0]))))))), @6=@2[0], @7=@2[1], @8=@2[2], @9=vertcat(@3, (-@6), (-@7), (-@8)), @10=@5[3], @11=@5[2], @12=@5[1], vertcat(((@5[0]*@3)-dot(@5[1:4], @9[1:4])), (((@5[0]*@9[1:4])+(@3*@5[1:4]))+vertcat(((@10*@7)-(@11*@8)), ((@12*@8)-(@10*@6)), ((@11*@6)-(@12*@7))))))"
      ]
     },
     "execution_count": 20,
     "metadata": {},
     "output_type": "execute_result"
    }
   ],
   "source": [
    "Q1.get_trans.get[:, 0]"
   ]
  },
  {
   "cell_type": "code",
   "execution_count": null,
   "id": "0088f135",
   "metadata": {},
   "outputs": [],
   "source": []
  }
 ],
 "metadata": {
  "kernelspec": {
   "display_name": "Python 3.8.18 ('dual_quat')",
   "language": "python",
   "name": "python3"
  },
  "language_info": {
   "codemirror_mode": {
    "name": "ipython",
    "version": 3
   },
   "file_extension": ".py",
   "mimetype": "text/x-python",
   "name": "python",
   "nbconvert_exporter": "python",
   "pygments_lexer": "ipython3",
   "version": "3.8.18"
  },
  "vscode": {
   "interpreter": {
    "hash": "55fd25a4db1577015ee8267fb6134e577a469327f1df3f42c7ba64281f9f75b9"
   }
  }
 },
 "nbformat": 4,
 "nbformat_minor": 5
}
