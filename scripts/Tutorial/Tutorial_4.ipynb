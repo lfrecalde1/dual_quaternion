{
 "cells": [
  {
   "cell_type": "markdown",
   "id": "b68f6b2d",
   "metadata": {},
   "source": [
    "## Import Libraries"
   ]
  },
  {
   "cell_type": "code",
   "execution_count": 11,
   "id": "ad7580e4",
   "metadata": {},
   "outputs": [],
   "source": [
    "import time\n",
    "import rospy\n",
    "import numpy as np\n",
    "import casadi as ca\n",
    "import numpy as np\n",
    "import matplotlib.pyplot as plt\n",
    "from dual_quaternion import Quaternion\n",
    "from dual_quaternion import DualQuaternion\n",
    "from casadi import Function"
   ]
  },
  {
   "cell_type": "markdown",
   "id": "0d8fa1b6",
   "metadata": {},
   "source": [
    "## Working with Symbolic Variables"
   ]
  },
  {
   "cell_type": "code",
   "execution_count": 12,
   "id": "25695c40",
   "metadata": {},
   "outputs": [],
   "source": [
    "# Defining First transformation\n",
    "theta_1 = ca.MX.sym('theta_1', 1, 1)\n",
    "theta_1p = ca.MX.sym('theta_1p', 1, 1)\n",
    "n_1 = ca.MX([0.0, 0.0, 1.0])\n",
    "q_1 = ca.vertcat(ca.cos(theta_1/2), ca.sin(theta_1/2)@n_1)\n",
    "tx_1 = ca.MX.sym(\"x_1\", 1, 1)\n",
    "t_1 = ca.MX([0.0, 0.0, 0.0, 0.0])\n",
    "\n",
    "theta_2 = ca.MX.sym('theta_2', 1, 1)\n",
    "theta_2p = ca.MX.sym('theta_2p', 1, 1)\n",
    "n_2 = ca.MX([0.0, 0.0, 1.0])\n",
    "q_2 = ca.vertcat(ca.cos(theta_2/2), ca.sin(theta_2/2)@n_2)\n",
    "tx_2 = ca.MX.sym(\"x_2\", 1, 1)\n",
    "t_2 = ca.vertcat(0.0, tx_2, 0.0, 0.0)\n",
    "\n",
    "\n",
    "aux_symbolic_total = ca.vertcat(theta_1, theta_2, tx_2)\n",
    "symbolic_actions = ca.vertcat(theta_1, theta_2)\n",
    "control = ca.vertcat(theta_1p, theta_2p)"
   ]
  },
  {
   "cell_type": "markdown",
   "id": "bdc21f8d",
   "metadata": {},
   "source": [
    "### Computing Sequential Transformations"
   ]
  },
  {
   "cell_type": "code",
   "execution_count": 13,
   "id": "a5952a60",
   "metadata": {},
   "outputs": [],
   "source": [
    "Q1 = DualQuaternion.from_pose(quat = q_1, trans = t_1)\n",
    "Q2 = DualQuaternion.from_pose(quat = q_2, trans = t_2)\n",
    "Q3 = Q1 * Q2"
   ]
  },
  {
   "cell_type": "markdown",
   "id": "b188b839",
   "metadata": {},
   "source": [
    "## Generating Function Using CasADi"
   ]
  },
  {
   "cell_type": "code",
   "execution_count": 14,
   "id": "52d347b3",
   "metadata": {},
   "outputs": [],
   "source": [
    "Function_DualQuat_total = Function('DualQuat_total', [aux_symbolic_total], [Q3.get[:, 0]])\n",
    "Function_DualQuat_total_trans = Function('DualQuat_total_trans', [aux_symbolic_total], [Q3.get_trans.get[:, 0]])\n",
    "Function_DualQuat_total_quat = Function('DualQuat_total_quat', [aux_symbolic_total], [Q3.get_quat.get[:, 0]])"
   ]
  },
  {
   "cell_type": "markdown",
   "id": "e3af682d",
   "metadata": {},
   "source": [
    "## Using Functions"
   ]
  },
  {
   "cell_type": "code",
   "execution_count": 15,
   "id": "98f4df6a",
   "metadata": {},
   "outputs": [
    {
     "data": {
      "text/plain": [
       "DM([-0, 0.254771, -0.967001, 0])"
      ]
     },
     "execution_count": 15,
     "metadata": {},
     "output_type": "execute_result"
    }
   ],
   "source": [
    "input_t = np.array([4.97, 0.0, 1])\n",
    "trans = Function_DualQuat_total_trans(input_t)\n",
    "trans"
   ]
  },
  {
   "cell_type": "markdown",
   "id": "0dedcee1",
   "metadata": {},
   "source": [
    "### Calculating Jacobians"
   ]
  },
  {
   "cell_type": "code",
   "execution_count": 16,
   "id": "f7170792",
   "metadata": {},
   "outputs": [],
   "source": [
    "J = ca.jacobian(Q3.get[:, 0], symbolic_actions)"
   ]
  },
  {
   "cell_type": "code",
   "execution_count": 17,
   "id": "779bfc86",
   "metadata": {},
   "outputs": [],
   "source": [
    "Function_J = Function(\"Function_J\", [aux_symbolic_total], [J])"
   ]
  },
  {
   "cell_type": "code",
   "execution_count": 18,
   "id": "13f60f84",
   "metadata": {},
   "outputs": [
    {
     "name": "stdout",
     "output_type": "stream",
     "text": [
      "\n",
      "[[0.499996, 0.499996], \n",
      " [0, 0], \n",
      " [0, 0], \n",
      " [-0.00210183, -0.00210183], \n",
      " [-0, 0], \n",
      " [0.249998, -0.249998], \n",
      " [-0.00105092, 0.00105092], \n",
      " [0, 0]]\n"
     ]
    }
   ],
   "source": [
    "input_t = np.array([-3.15, 0.0, 1])\n",
    "Jacobian = Function_J(input_t)\n",
    "print(Jacobian)"
   ]
  },
  {
   "cell_type": "markdown",
   "id": "e642d859",
   "metadata": {},
   "source": [
    "## Computing Differential Kinematics"
   ]
  },
  {
   "cell_type": "code",
   "execution_count": 19,
   "id": "c9a23bb6",
   "metadata": {},
   "outputs": [],
   "source": [
    "diff_kinematics = J @ control\n",
    "\n",
    "Function_diff_kinematics = Function(\"Function_diff_kinematics\", [aux_symbolic_total, control], [diff_kinematics])"
   ]
  },
  {
   "cell_type": "code",
   "execution_count": 20,
   "id": "880b7354",
   "metadata": {},
   "outputs": [
    {
     "data": {
      "text/plain": [
       "DM([0.179998, 0, 0, -0.000756659, 0, 0.0899992, -0.000378329, 0])"
      ]
     },
     "execution_count": 20,
     "metadata": {},
     "output_type": "execute_result"
    }
   ],
   "source": [
    "input_t = np.array([-3.15, 0.0, 1])\n",
    "input_t_p = np.array([0.36, 0.0])\n",
    "Xp = Function_diff_kinematics(input_t, input_t_p)\n",
    "Xp"
   ]
  },
  {
   "cell_type": "code",
   "execution_count": null,
   "id": "53147ba0",
   "metadata": {},
   "outputs": [],
   "source": []
  },
  {
   "cell_type": "code",
   "execution_count": null,
   "id": "2e5a595d",
   "metadata": {},
   "outputs": [],
   "source": []
  }
 ],
 "metadata": {
  "kernelspec": {
   "display_name": "Python 3.8.18 ('dual_quat')",
   "language": "python",
   "name": "python3"
  },
  "language_info": {
   "codemirror_mode": {
    "name": "ipython",
    "version": 3
   },
   "file_extension": ".py",
   "mimetype": "text/x-python",
   "name": "python",
   "nbconvert_exporter": "python",
   "pygments_lexer": "ipython3",
   "version": "3.8.18"
  },
  "vscode": {
   "interpreter": {
    "hash": "55fd25a4db1577015ee8267fb6134e577a469327f1df3f42c7ba64281f9f75b9"
   }
  }
 },
 "nbformat": 4,
 "nbformat_minor": 5
}
