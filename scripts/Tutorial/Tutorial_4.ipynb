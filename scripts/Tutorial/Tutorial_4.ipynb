{
 "cells": [
  {
   "cell_type": "markdown",
   "id": "b68f6b2d",
   "metadata": {},
   "source": [
    "## Import Libraries"
   ]
  },
  {
   "cell_type": "code",
   "execution_count": 18,
   "id": "ad7580e4",
   "metadata": {},
   "outputs": [],
   "source": [
    "import time\n",
    "import rospy\n",
    "import numpy as np\n",
    "import casadi as ca\n",
    "import numpy as np\n",
    "import matplotlib.pyplot as plt\n",
    "from dual_quaternion import Quaternion\n",
    "from dual_quaternion import DualQuaternion\n",
    "from casadi import Function"
   ]
  },
  {
   "cell_type": "markdown",
   "id": "0d8fa1b6",
   "metadata": {},
   "source": [
    "## Working with Symbolic Variables"
   ]
  },
  {
   "cell_type": "code",
   "execution_count": 19,
   "id": "25695c40",
   "metadata": {},
   "outputs": [],
   "source": [
    "# Defining First transformation\n",
    "theta_1 = ca.MX.sym('theta_1', 1, 1)\n",
    "n_1 = ca.MX([0.0, 0.0, 1.0])\n",
    "q_1 = ca.vertcat(ca.cos(theta_1/2), ca.sin(theta_1/2)@n_1)\n",
    "tx_1 = ca.MX.sym(\"x_1\", 1, 1)\n",
    "t_1 = ca.vertcat(0.0, 0.0, 0.0, 0.0)\n",
    "\n",
    "theta_2 = ca.MX.sym('theta_2', 1, 1)\n",
    "n_2 = ca.MX([0.0, 0.0, 1.0])\n",
    "q_2 = ca.vertcat(ca.cos(theta_2/2), ca.sin(theta_2/2)@n_2)\n",
    "tx_2 = ca.MX.sym(\"x_2\", 1, 1)\n",
    "t_2 = ca.vertcat(0.0, tx_2, 0.0, 0.0)\n",
    "\n",
    "\n",
    "aux_symbolic_total = ca.vertcat(theta_1, theta_2, tx_2)\n",
    "symbolic_actions = ca.vertcat(theta_1, theta_2)"
   ]
  },
  {
   "cell_type": "code",
   "execution_count": 20,
   "id": "cd84a3d1",
   "metadata": {},
   "outputs": [],
   "source": [
    "Q1 = DualQuaternion.from_pose(quat = q_1, trans = t_1)"
   ]
  },
  {
   "cell_type": "code",
   "execution_count": 21,
   "id": "04600667",
   "metadata": {},
   "outputs": [],
   "source": [
    "Function_DualQuat_total = Function('DualQuat_total', [aux_symbolic_total], [Q1.get[:, 0]])\n",
    "Function_DualQuat_total_trans = Function('DualQuat_total_trans', [aux_symbolic_total], [Q1.get_trans.get[:, 0]])\n",
    "Function_DualQuat_total_quat = Function('DualQuat_total_quat', [aux_symbolic_total], [Q1.get_quat.get[:, 0]])"
   ]
  },
  {
   "cell_type": "code",
   "execution_count": 22,
   "id": "04ebe233",
   "metadata": {},
   "outputs": [],
   "source": [
    "input_t = np.array([np.pi/2, 1.0])\n",
    "\n",
    "trans_t = Function_DualQuat_total_trans(input_t)\n",
    "quat_t = Function_DualQuat_total_quat(input_t)\n",
    "Quat_t = Function_DualQuat_total(input_t)"
   ]
  },
  {
   "cell_type": "code",
   "execution_count": 23,
   "id": "2290cd15",
   "metadata": {},
   "outputs": [
    {
     "data": {
      "text/plain": [
       "DM([-0, 1, 0, 0])"
      ]
     },
     "execution_count": 23,
     "metadata": {},
     "output_type": "execute_result"
    }
   ],
   "source": [
    "trans_t"
   ]
  },
  {
   "cell_type": "code",
   "execution_count": 24,
   "id": "3630f332",
   "metadata": {},
   "outputs": [
    {
     "data": {
      "text/plain": [
       "DM([0.707107, 0, 0, 0.707107])"
      ]
     },
     "execution_count": 24,
     "metadata": {},
     "output_type": "execute_result"
    }
   ],
   "source": [
    "quat_t"
   ]
  },
  {
   "cell_type": "code",
   "execution_count": 25,
   "id": "5dc02959",
   "metadata": {},
   "outputs": [
    {
     "data": {
      "text/plain": [
       "DM([0.707107, 0, 0, 0.707107, -0, 0.353553, -0.353553, 0])"
      ]
     },
     "execution_count": 25,
     "metadata": {},
     "output_type": "execute_result"
    }
   ],
   "source": [
    "Quat_t"
   ]
  },
  {
   "cell_type": "code",
   "execution_count": 31,
   "id": "98f4df6a",
   "metadata": {},
   "outputs": [
    {
     "data": {
      "text/plain": [
       "DM([0, 1, 0, 0])"
      ]
     },
     "execution_count": 31,
     "metadata": {},
     "output_type": "execute_result"
    }
   ],
   "source": [
    "input_t = np.array([4.97, 1.0])\n",
    "trans = Function_DualQuat_total_trans(input_t)\n",
    "trans"
   ]
  },
  {
   "cell_type": "markdown",
   "id": "0dedcee1",
   "metadata": {},
   "source": [
    "### Calculating Jacobians"
   ]
  },
  {
   "cell_type": "code",
   "execution_count": 26,
   "id": "f7170792",
   "metadata": {},
   "outputs": [],
   "source": [
    "J = ca.jacobian(Q1.get[:, 0], symbolic_actions)"
   ]
  },
  {
   "cell_type": "code",
   "execution_count": 27,
   "id": "779bfc86",
   "metadata": {},
   "outputs": [],
   "source": [
    "Function_J = Function(\"Function_F\", [aux_symbolic_total], [J])"
   ]
  },
  {
   "cell_type": "code",
   "execution_count": 28,
   "id": "13f60f84",
   "metadata": {},
   "outputs": [
    {
     "data": {
      "text/plain": [
       "(8, 1)"
      ]
     },
     "execution_count": 28,
     "metadata": {},
     "output_type": "execute_result"
    }
   ],
   "source": [
    "J.shape"
   ]
  },
  {
   "cell_type": "code",
   "execution_count": null,
   "id": "1af84c86",
   "metadata": {},
   "outputs": [],
   "source": []
  }
 ],
 "metadata": {
  "kernelspec": {
   "display_name": "Python 3.8.18 ('dual_quat')",
   "language": "python",
   "name": "python3"
  },
  "language_info": {
   "codemirror_mode": {
    "name": "ipython",
    "version": 3
   },
   "file_extension": ".py",
   "mimetype": "text/x-python",
   "name": "python",
   "nbconvert_exporter": "python",
   "pygments_lexer": "ipython3",
   "version": "3.8.18"
  },
  "vscode": {
   "interpreter": {
    "hash": "55fd25a4db1577015ee8267fb6134e577a469327f1df3f42c7ba64281f9f75b9"
   }
  }
 },
 "nbformat": 4,
 "nbformat_minor": 5
}
