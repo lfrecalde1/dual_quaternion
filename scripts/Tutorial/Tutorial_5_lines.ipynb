{
 "cells": [
  {
   "cell_type": "markdown",
   "id": "b68f6b2d",
   "metadata": {},
   "source": [
    "## Import Libraries"
   ]
  },
  {
   "cell_type": "code",
   "execution_count": 92,
   "id": "ad7580e4",
   "metadata": {},
   "outputs": [],
   "source": [
    "import time\n",
    "import rospy\n",
    "import numpy as np\n",
    "import casadi as ca\n",
    "import numpy as np\n",
    "import matplotlib.pyplot as plt\n",
    "from dual_quaternion import Quaternion\n",
    "from dual_quaternion import DualQuaternion\n",
    "from dual_quaternion import plot_states_quaternion, plot_states_position, fancy_plots_4, fancy_plots_1, plot_norm_quat, plot_angular_velocities, plot_linear_velocities, fancy_plots_3, plot_norm_real, plot_norm_dual\n",
    "from scipy.spatial.transform import Rotation as R\n",
    "from nav_msgs.msg import Odometry\n",
    "from casadi import Function"
   ]
  },
  {
   "cell_type": "markdown",
   "id": "5adb8ab1",
   "metadata": {},
   "source": [
    "## Working with numeric Entries"
   ]
  },
  {
   "cell_type": "code",
   "execution_count": 93,
   "id": "3e8cb56b",
   "metadata": {},
   "outputs": [],
   "source": [
    "\n",
    "# Defining of the vectors using casadi\n",
    "theta1 = ca.SX([np.pi/2])\n",
    "n1 = ca.SX([0.0, 0.0, 1.0])\n",
    "q1 = ca.SX([0, 0, 0, 1])\n",
    "t1 = ca.SX([0.0, 1.0, 1.0, 0.0])\n",
    "\n",
    "# Defining of the vectors using casadi\n",
    "theta2 = ca.SX([ca.pi/4])\n",
    "n2 = ca.SX([1.0, 0.0, 0.0])\n",
    "q2 = ca.SX([0, 0, 1, 0])\n",
    "t2 = ca.SX([0.0, -1.0, 1.0, 0.0])\n",
    "\n",
    "\n",
    "# Init Dualquaternion\n",
    "Q1 = DualQuaternion.from_pose(quat = q1, trans = t1)\n",
    "Q2 = DualQuaternion.from_pose(quat = q2, trans = t2)"
   ]
  },
  {
   "cell_type": "code",
   "execution_count": 94,
   "id": "18232ec0",
   "metadata": {},
   "outputs": [],
   "source": [
    "qe = Q1.conjugate() * Q2"
   ]
  },
  {
   "cell_type": "code",
   "execution_count": 95,
   "id": "77b4e0de",
   "metadata": {},
   "outputs": [
    {
     "data": {
      "text/plain": [
       "DualQuaternion(Qr=Quaternion: @1=0, [@1, 0.785398, @1, @1], Qd=Quaternion: @1=0, [@1, 1, @1, @1])"
      ]
     },
     "execution_count": 95,
     "metadata": {},
     "output_type": "execute_result"
    }
   ],
   "source": [
    "qe_ln = qe.ln()\n",
    "\n",
    "qe_ln"
   ]
  },
  {
   "cell_type": "code",
   "execution_count": 96,
   "id": "ae8b3bb8",
   "metadata": {},
   "outputs": [
    {
     "data": {
      "text/plain": [
       "(SX(0.785398), SX(1))"
      ]
     },
     "execution_count": 96,
     "metadata": {},
     "output_type": "execute_result"
    }
   ],
   "source": [
    "qe_ln.norm"
   ]
  },
  {
   "cell_type": "code",
   "execution_count": 97,
   "id": "37f04c55",
   "metadata": {},
   "outputs": [
    {
     "data": {
      "text/plain": [
       "Quaternion: @1=0, [@1, 0.785398, @1, @1]"
      ]
     },
     "execution_count": 97,
     "metadata": {},
     "output_type": "execute_result"
    }
   ],
   "source": [
    "qe_ln_real = qe_ln.get_real\n",
    "qe_ln_real"
   ]
  },
  {
   "cell_type": "code",
   "execution_count": 98,
   "id": "a2305e00",
   "metadata": {},
   "outputs": [
    {
     "data": {
      "text/plain": [
       "Quaternion: @1=0, [@1, 1, @1, @1]"
      ]
     },
     "execution_count": 98,
     "metadata": {},
     "output_type": "execute_result"
    }
   ],
   "source": [
    "qe_ln_dual = qe_ln.get_dual\n",
    "qe_ln_dual"
   ]
  },
  {
   "cell_type": "code",
   "execution_count": 99,
   "id": "024fe662",
   "metadata": {},
   "outputs": [
    {
     "data": {
      "text/plain": [
       "SX(0.785398)"
      ]
     },
     "execution_count": 99,
     "metadata": {},
     "output_type": "execute_result"
    }
   ],
   "source": [
    "qe_ln_real_norm = qe_ln_real.norm\n",
    "qe_ln_real_norm"
   ]
  },
  {
   "cell_type": "code",
   "execution_count": 100,
   "id": "1bb6d7ea",
   "metadata": {},
   "outputs": [
    {
     "data": {
      "text/plain": [
       "SX(1)"
      ]
     },
     "execution_count": 100,
     "metadata": {},
     "output_type": "execute_result"
    }
   ],
   "source": [
    "qe_ln_dual_norm = qe_ln_dual.norm\n",
    "qe_ln_dual_norm"
   ]
  },
  {
   "cell_type": "code",
   "execution_count": null,
   "id": "baa49138",
   "metadata": {},
   "outputs": [],
   "source": []
  },
  {
   "cell_type": "code",
   "execution_count": null,
   "id": "f6607687",
   "metadata": {},
   "outputs": [],
   "source": []
  },
  {
   "cell_type": "code",
   "execution_count": null,
   "id": "9f4ae190",
   "metadata": {},
   "outputs": [],
   "source": []
  }
 ],
 "metadata": {
  "kernelspec": {
   "display_name": "Python 3.8.18 ('dual_quat')",
   "language": "python",
   "name": "python3"
  },
  "language_info": {
   "codemirror_mode": {
    "name": "ipython",
    "version": 3
   },
   "file_extension": ".py",
   "mimetype": "text/x-python",
   "name": "python",
   "nbconvert_exporter": "python",
   "pygments_lexer": "ipython3",
   "version": "3.8.18"
  },
  "vscode": {
   "interpreter": {
    "hash": "55fd25a4db1577015ee8267fb6134e577a469327f1df3f42c7ba64281f9f75b9"
   }
  }
 },
 "nbformat": 4,
 "nbformat_minor": 5
}
