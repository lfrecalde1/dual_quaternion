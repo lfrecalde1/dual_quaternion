{
 "cells": [
  {
   "cell_type": "markdown",
   "id": "b68f6b2d",
   "metadata": {},
   "source": [
    "## Import Libraries"
   ]
  },
  {
   "cell_type": "code",
   "execution_count": 69,
   "id": "ad7580e4",
   "metadata": {},
   "outputs": [],
   "source": [
    "import time\n",
    "import rospy\n",
    "import numpy as np\n",
    "import casadi as ca\n",
    "import numpy as np\n",
    "import matplotlib.pyplot as plt\n",
    "from dual_quaternion import Quaternion\n",
    "from dual_quaternion import DualQuaternion\n",
    "from casadi import Function"
   ]
  },
  {
   "cell_type": "markdown",
   "id": "0d8fa1b6",
   "metadata": {},
   "source": [
    "## Working with Symbolic Variables"
   ]
  },
  {
   "cell_type": "code",
   "execution_count": 70,
   "id": "25695c40",
   "metadata": {},
   "outputs": [],
   "source": [
    "# Defining Mobile Robo Frame\n",
    "theta_1 = ca.SX.sym('theta_1', 1, 1)\n",
    "n_1 = ca.SX([0.0, 0.0, 1.0])\n",
    "q_1 = ca.vertcat(ca.cos(theta_1/2), ca.sin(theta_1/2)@n_1)\n",
    "tx_1 = ca.SX.sym(\"x_1\", 1, 1)\n",
    "ty_1 = ca.SX.sym(\"y_1\", 1, 1)\n",
    "t_1 = ca.vertcat(0.0, tx_1, ty_1, 0.0)\n",
    "\n",
    "# Time Derivaties\n",
    "theta_1p = ca.SX.sym('theta_1p', 1, 1)\n",
    "tx_1p = ca.SX.sym(\"x_1p\", 1, 1)\n",
    "ty_1p = ca.SX.sym(\"y_1p\", 1, 1)\n",
    "\n",
    "aux_symbolic_total = ca.vertcat(tx_1, ty_1, theta_1)\n",
    "symbolic_actions = ca.vertcat(tx_1, ty_1, theta_1)\n",
    "\n",
    "control = ca.vertcat(tx_1p, ty_1p, theta_1p)"
   ]
  },
  {
   "cell_type": "code",
   "execution_count": 71,
   "id": "955026ae",
   "metadata": {},
   "outputs": [],
   "source": [
    "\n",
    "# Defining Desired Frame\n",
    "theta_1d = ca.SX.sym('theta_1d', 1, 1)\n",
    "n_1d = ca.SX([0.0, 0.0, 1.0])\n",
    "q_1d = ca.vertcat(ca.cos(theta_1d/2), ca.sin(theta_1d/2)@n_1d)\n",
    "tx_1d = ca.SX.sym(\"x_1d\", 1, 1)\n",
    "ty_1d = ca.SX.sym(\"y_1d\", 1, 1)\n",
    "t_1d = ca.vertcat(0.0, tx_1d, ty_1d, 0.0)\n",
    "\n",
    "# Time Derivaties\n",
    "theta_1pd = ca.SX.sym('theta_1pd', 1, 1)\n",
    "tx_1pd = ca.SX.sym(\"x_1pd\", 1, 1)\n",
    "ty_1pd = ca.SX.sym(\"y_1pd\", 1, 1)"
   ]
  },
  {
   "cell_type": "markdown",
   "id": "bdc21f8d",
   "metadata": {},
   "source": [
    "### Computing Sequential Transformations"
   ]
  },
  {
   "cell_type": "code",
   "execution_count": 72,
   "id": "a5952a60",
   "metadata": {},
   "outputs": [
    {
     "data": {
      "text/plain": [
       "Quaternion: @1=0, @2=0.5, @3=2, @4=cos((theta_1/@3)), @5=sin((theta_1/@3)), [@1, (@2*((x_1*@4)+(y_1*@5))), (@2*((y_1*@4)-(x_1*@5))), @1]"
      ]
     },
     "execution_count": 72,
     "metadata": {},
     "output_type": "execute_result"
    }
   ],
   "source": [
    "Q1 = DualQuaternion.from_pose(quat = q_1, trans = t_1)\n",
    "Q1.get_dual"
   ]
  },
  {
   "cell_type": "code",
   "execution_count": 73,
   "id": "77533880",
   "metadata": {},
   "outputs": [],
   "source": [
    "Q1d = DualQuaternion.from_pose(quat = q_1d, trans = t_1d)\n"
   ]
  },
  {
   "cell_type": "markdown",
   "id": "b188b839",
   "metadata": {},
   "source": [
    "## Generating Function Using CasADi"
   ]
  },
  {
   "cell_type": "code",
   "execution_count": 74,
   "id": "52d347b3",
   "metadata": {},
   "outputs": [],
   "source": [
    "Function_DualQuat_total = Function('DualQuat_total', [aux_symbolic_total], [Q1.get[:, 0]])\n",
    "Function_DualQuat_total_trans = Function('DualQuat_total_trans', [aux_symbolic_total], [Q1.get_trans.get[:, 0]])\n",
    "Function_DualQuat_total_quat = Function('DualQuat_total_quat', [aux_symbolic_total], [Q1.get_quat.get[:, 0]])"
   ]
  },
  {
   "cell_type": "markdown",
   "id": "e3af682d",
   "metadata": {},
   "source": [
    "## Using Functions"
   ]
  },
  {
   "cell_type": "code",
   "execution_count": 75,
   "id": "98f4df6a",
   "metadata": {},
   "outputs": [
    {
     "data": {
      "text/plain": [
       "DM([0.707107, 0, 0, 0.707107, 0, 1.06066, 2.47487, 0])"
      ]
     },
     "execution_count": 75,
     "metadata": {},
     "output_type": "execute_result"
    }
   ],
   "source": [
    "input_t = np.array([-2, 5, np.pi/2])\n",
    "dual = Function_DualQuat_total(input_t)\n",
    "dual"
   ]
  },
  {
   "cell_type": "code",
   "execution_count": 76,
   "id": "48590c2e",
   "metadata": {},
   "outputs": [
    {
     "data": {
      "text/plain": [
       "DM([0, -2, 5, 0])"
      ]
     },
     "execution_count": 76,
     "metadata": {},
     "output_type": "execute_result"
    }
   ],
   "source": [
    "input_t = np.array([-2, 5, np.pi/2])\n",
    "trans = Function_DualQuat_total_trans(input_t)\n",
    "trans"
   ]
  },
  {
   "cell_type": "code",
   "execution_count": 77,
   "id": "305f720b",
   "metadata": {},
   "outputs": [
    {
     "data": {
      "text/plain": [
       "DM([0.707107, 0, 0, 0.707107])"
      ]
     },
     "execution_count": 77,
     "metadata": {},
     "output_type": "execute_result"
    }
   ],
   "source": [
    "input_t = np.array([-2, 5, np.pi/2])\n",
    "quat = Function_DualQuat_total_quat(input_t)\n",
    "quat"
   ]
  },
  {
   "cell_type": "markdown",
   "id": "0dedcee1",
   "metadata": {},
   "source": [
    "### Calculating Jacobians"
   ]
  },
  {
   "cell_type": "code",
   "execution_count": 78,
   "id": "f7170792",
   "metadata": {},
   "outputs": [
    {
     "data": {
      "text/plain": [
       "(8, 3)"
      ]
     },
     "execution_count": 78,
     "metadata": {},
     "output_type": "execute_result"
    }
   ],
   "source": [
    "J = ca.jacobian(Q1.get[:, 0], symbolic_actions)\n",
    "J.shape"
   ]
  },
  {
   "cell_type": "code",
   "execution_count": 79,
   "id": "779bfc86",
   "metadata": {},
   "outputs": [],
   "source": [
    "Function_J = Function(\"Function_J\", [aux_symbolic_total], [J])"
   ]
  },
  {
   "cell_type": "code",
   "execution_count": 80,
   "id": "13f60f84",
   "metadata": {},
   "outputs": [
    {
     "name": "stdout",
     "output_type": "stream",
     "text": [
      "\n",
      "[[00, 00, -0.135773], \n",
      " [00, 00, 00], \n",
      " [00, 00, 00], \n",
      " [00, 00, 0.481213], \n",
      " [00, 00, 00], \n",
      " [0.481213, 0.135773, 0.863598], \n",
      " [-0.135773, 0.481213, -1.54247], \n",
      " [00, 00, 00]]\n"
     ]
    }
   ],
   "source": [
    "input_t = np.array([5, 5, 0.55])\n",
    "Jacobian = Function_J(input_t)\n",
    "print(Jacobian)"
   ]
  },
  {
   "cell_type": "markdown",
   "id": "e642d859",
   "metadata": {},
   "source": [
    "## Computing Differential Kinematics"
   ]
  },
  {
   "cell_type": "code",
   "execution_count": 81,
   "id": "c9a23bb6",
   "metadata": {},
   "outputs": [],
   "source": [
    "diff_kinematics = J @ control\n",
    "\n",
    "Function_diff_kinematics = Function(\"Function_diff_kinematics\", [aux_symbolic_total, control], [diff_kinematics])"
   ]
  },
  {
   "cell_type": "code",
   "execution_count": 82,
   "id": "880b7354",
   "metadata": {},
   "outputs": [
    {
     "data": {
      "text/plain": [
       "DM([-0, 00, 00, 0, 00, 0.157965, -0.0862966, 00])"
      ]
     },
     "execution_count": 82,
     "metadata": {},
     "output_type": "execute_result"
    }
   ],
   "source": [
    "input_t = np.array([-3.15, 0.0, 1])\n",
    "input_t_p = np.array([0.36, 0.0, 0.0])\n",
    "Xp = Function_diff_kinematics(input_t, input_t_p)\n",
    "Xp"
   ]
  },
  {
   "cell_type": "code",
   "execution_count": null,
   "id": "53147ba0",
   "metadata": {},
   "outputs": [],
   "source": []
  },
  {
   "cell_type": "code",
   "execution_count": null,
   "id": "2e5a595d",
   "metadata": {},
   "outputs": [],
   "source": []
  }
 ],
 "metadata": {
  "kernelspec": {
   "display_name": "Python 3.8.18 ('dual_quat')",
   "language": "python",
   "name": "python3"
  },
  "language_info": {
   "codemirror_mode": {
    "name": "ipython",
    "version": 3
   },
   "file_extension": ".py",
   "mimetype": "text/x-python",
   "name": "python",
   "nbconvert_exporter": "python",
   "pygments_lexer": "ipython3",
   "version": "3.8.18"
  },
  "vscode": {
   "interpreter": {
    "hash": "55fd25a4db1577015ee8267fb6134e577a469327f1df3f42c7ba64281f9f75b9"
   }
  }
 },
 "nbformat": 4,
 "nbformat_minor": 5
}
