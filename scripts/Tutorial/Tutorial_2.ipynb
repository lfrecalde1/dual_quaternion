{
 "cells": [
  {
   "cell_type": "markdown",
   "id": "b68f6b2d",
   "metadata": {},
   "source": [
    "## Import Libraries"
   ]
  },
  {
   "cell_type": "code",
   "execution_count": 26,
   "id": "ad7580e4",
   "metadata": {},
   "outputs": [],
   "source": [
    "import time\n",
    "import rospy\n",
    "import numpy as np\n",
    "import casadi as ca\n",
    "import numpy as np\n",
    "import matplotlib.pyplot as plt\n",
    "from dual_quaternion import Quaternion\n",
    "from dual_quaternion import DualQuaternion\n",
    "from dual_quaternion import plot_states_quaternion, plot_states_position, fancy_plots_4, fancy_plots_1, plot_norm_quat, plot_angular_velocities, plot_linear_velocities, fancy_plots_3, plot_norm_real, plot_norm_dual\n",
    "from scipy.spatial.transform import Rotation as R\n",
    "from nav_msgs.msg import Odometry\n",
    "from casadi import Function"
   ]
  },
  {
   "cell_type": "markdown",
   "id": "5adb8ab1",
   "metadata": {},
   "source": [
    "## Working with numeric Entries"
   ]
  },
  {
   "cell_type": "code",
   "execution_count": 27,
   "id": "3e8cb56b",
   "metadata": {},
   "outputs": [],
   "source": [
    "\n",
    "# Defining of the vectors using casadi\n",
    "theta1 = ca.SX([np.pi/2])\n",
    "n1 = ca.SX([0.0, 0.0, 1.0])\n",
    "q1 = ca.vertcat(ca.cos(theta1/2), ca.sin(theta1/2)@n1)\n",
    "t1 = ca.SX([0.0, 1.0, 1.0, 0.0])\n",
    "\n",
    "# Defining of the vectors using casadi\n",
    "theta2 = ca.SX([ca.pi/4])\n",
    "n2 = ca.SX([1.0, 0.0, 0.0])\n",
    "q2 = ca.vertcat(ca.cos(theta2/2), ca.sin(theta2/2)@n2)\n",
    "t2 = ca.SX([0.0, 0.0, 2.0, 0.0])\n",
    "\n",
    "\n",
    "# Init Dualquaternion\n",
    "Q1 = DualQuaternion.from_pose(quat = q1, trans = t1)\n",
    "Q2 = DualQuaternion.from_pose(quat = q2, trans = t2)"
   ]
  },
  {
   "cell_type": "code",
   "execution_count": 28,
   "id": "163c4d86",
   "metadata": {},
   "outputs": [
    {
     "data": {
      "text/plain": [
       "SX(@1=0, @2=1, [@1, @2, @2, @1])"
      ]
     },
     "execution_count": 28,
     "metadata": {},
     "output_type": "execute_result"
    }
   ],
   "source": [
    "Q1.get_trans.get[:, 0]"
   ]
  },
  {
   "cell_type": "code",
   "execution_count": 29,
   "id": "d94a0f43",
   "metadata": {},
   "outputs": [
    {
     "data": {
      "text/plain": [
       "Quaternion: @1=0, @2=1, [@1, @2, @2, @1]"
      ]
     },
     "execution_count": 29,
     "metadata": {},
     "output_type": "execute_result"
    }
   ],
   "source": [
    "Q1.get_trans"
   ]
  },
  {
   "cell_type": "code",
   "execution_count": 30,
   "id": "5db776c3",
   "metadata": {},
   "outputs": [
    {
     "data": {
      "text/plain": [
       "SX(@1=0, @2=0.707107, [0.707107, @1, @1, @2, @1, @2, 5.55112e-17, @1])"
      ]
     },
     "execution_count": 30,
     "metadata": {},
     "output_type": "execute_result"
    }
   ],
   "source": [
    "Q1.get"
   ]
  },
  {
   "cell_type": "code",
   "execution_count": 31,
   "id": "4d340c44",
   "metadata": {},
   "outputs": [
    {
     "data": {
      "text/plain": [
       "SX(@1=0, [0.707107, @1, @1, 0.707107])"
      ]
     },
     "execution_count": 31,
     "metadata": {},
     "output_type": "execute_result"
    }
   ],
   "source": [
    "Q1.get_quat.get[:, 0]"
   ]
  },
  {
   "cell_type": "code",
   "execution_count": 32,
   "id": "c2e98130",
   "metadata": {},
   "outputs": [],
   "source": [
    "## Computing whole transformation\n",
    "Q3  = Q1 * Q2"
   ]
  },
  {
   "cell_type": "code",
   "execution_count": 33,
   "id": "53831f85",
   "metadata": {},
   "outputs": [
    {
     "data": {
      "text/plain": [
       "SX(@1=0.653281, @2=0, [@1, 0.270598, 0.270598, 0.653281, @2, @2, @1, -0.270598])"
      ]
     },
     "execution_count": 33,
     "metadata": {},
     "output_type": "execute_result"
    }
   ],
   "source": [
    "Q3.get[:, 0]"
   ]
  },
  {
   "cell_type": "markdown",
   "id": "0d8fa1b6",
   "metadata": {},
   "source": [
    "## Working with Symbolic Variables"
   ]
  },
  {
   "cell_type": "code",
   "execution_count": 34,
   "id": "25695c40",
   "metadata": {},
   "outputs": [],
   "source": [
    "# Defining First transformation\n",
    "theta_1 = ca.MX.sym('theta_1', 1, 1)\n",
    "n_1 = ca.MX([0.0, 0.0, 1.0])\n",
    "q_1 = ca.vertcat(ca.cos(theta_1/2), ca.sin(theta_1/2)@n_1)\n",
    "tx_1 = ca.MX.sym(\"x_1\", 1, 1)\n",
    "ty_1 = ca.MX.sym(\"y_1\", 1, 1)\n",
    "t_1 = ca.vertcat(0.0, tx_1, ty_1, 0.0)\n",
    "\n",
    "# Defining second transformation\n",
    "theta_2 = ca.MX.sym('theta_2', 1, 1)\n",
    "n_2 = ca.MX([1.0, 0.0, 0.0])\n",
    "q_2 = ca.vertcat(ca.cos(theta_2/2), ca.sin(theta_2/2)@n_2)\n",
    "tx_2 = ca.MX.sym(\"x_2\", 1, 1)\n",
    "ty_2 = ca.MX.sym(\"y_2\", 1, 1)\n",
    "t_2 = ca.vertcat(0.0, 0.0, ty_2, 0.0)\n",
    "aux_symbolic_total = ca.vertcat(theta_1, tx_1, ty_1, theta_2, ty_2)\n",
    "aux_symbolic = ca.vertcat(theta_1, tx_1, ty_1)"
   ]
  },
  {
   "cell_type": "code",
   "execution_count": 35,
   "id": "fa91c61c",
   "metadata": {},
   "outputs": [],
   "source": [
    "Q1 = DualQuaternion.from_pose(quat = q_1, trans = t_1)\n",
    "Q2 = DualQuaternion.from_pose(quat = q_2, trans = t_2)"
   ]
  },
  {
   "cell_type": "code",
   "execution_count": 36,
   "id": "c12442a9",
   "metadata": {},
   "outputs": [
    {
     "data": {
      "text/plain": [
       "MX(@1=cos((theta_1/2)), @2=([0, 0, 1]*sin((theta_1/2))), @3=vertcat(0, x_1, y_1, 0), @4=@2[2], vertcat(@1, @2, (0.5*vertcat((-dot(@3[1:4], @2)), ((@1*@3[1:4])+vertcat((y_1*@4), (-(x_1*@4)), ((x_1*@2[1])-(y_1*@2[0]))))))))"
      ]
     },
     "execution_count": 36,
     "metadata": {},
     "output_type": "execute_result"
    }
   ],
   "source": [
    "Q1.get"
   ]
  },
  {
   "cell_type": "code",
   "execution_count": 37,
   "id": "6547cd6d",
   "metadata": {},
   "outputs": [
    {
     "data": {
      "text/plain": [
       "MX(@1=vertcat(0, x_1, y_1, 0), @2=([0, 0, 1]*sin((theta_1/2))), @3=cos((theta_1/2)), @4=@2[2], @5=(2.*(0.5*vertcat((-dot(@1[1:4], @2)), ((@3*@1[1:4])+vertcat((y_1*@4), (-(x_1*@4)), ((x_1*@2[1])-(y_1*@2[0]))))))), @6=@2[0], @7=@2[1], @8=@2[2], @9=vertcat(@3, (-@6), (-@7), (-@8)), @10=@5[3], @11=@5[2], @12=@5[1], vertcat(((@5[0]*@3)-dot(@5[1:4], @9[1:4])), (((@5[0]*@9[1:4])+(@3*@5[1:4]))+vertcat(((@10*@7)-(@11*@8)), ((@12*@8)-(@10*@6)), ((@11*@6)-(@12*@7))))))"
      ]
     },
     "execution_count": 37,
     "metadata": {},
     "output_type": "execute_result"
    }
   ],
   "source": [
    "Q1.get_trans.get[:, 0]"
   ]
  },
  {
   "cell_type": "code",
   "execution_count": 38,
   "id": "0088f135",
   "metadata": {},
   "outputs": [
    {
     "data": {
      "text/plain": [
       "MX(vertcat(theta_1, x_1, y_1))"
      ]
     },
     "execution_count": 38,
     "metadata": {},
     "output_type": "execute_result"
    }
   ],
   "source": [
    "aux_symbolic"
   ]
  },
  {
   "cell_type": "code",
   "execution_count": 39,
   "id": "2e8ef6f0",
   "metadata": {},
   "outputs": [],
   "source": [
    "## Computing whole transformation\n",
    "Q3  = Q1 * Q2"
   ]
  },
  {
   "cell_type": "markdown",
   "id": "0000e56f",
   "metadata": {},
   "source": [
    "### Computing Functions Based on CasADi"
   ]
  },
  {
   "cell_type": "code",
   "execution_count": 40,
   "id": "ac535393",
   "metadata": {},
   "outputs": [],
   "source": [
    "Function_DualQuat_from_Pose = Function('DualQuat_from_Pose', [aux_symbolic], [Q1.get[:, 0]])\n",
    "Function_DualQuat_get_trans = Function('DualQuat_get_trans', [aux_symbolic], [Q1.get_trans.get[:, 0]])\n",
    "Function_DualQuat_get_quat = Function('DualQuat_get_quat', [aux_symbolic], [Q1.get_quat.get[:, 0]])\n",
    "Function_DualQuat_get_trans_t = Function('DualQuat_get_trans_t', [aux_symbolic_total], [Q3.get_trans.get[:, 0]])\n",
    "Function_DualQuat_get_quat_t = Function('DualQuat_get_quat_t', [aux_symbolic_total], [Q3.get_quat.get[:, 0]])"
   ]
  },
  {
   "cell_type": "code",
   "execution_count": 41,
   "id": "3e3d2695",
   "metadata": {},
   "outputs": [],
   "source": [
    "input = np.array([np.pi/2, 1, 1])\n",
    "input_t = np.array([np.pi/2, 1, 1, np.pi/4, 2])"
   ]
  },
  {
   "cell_type": "code",
   "execution_count": 42,
   "id": "ece7d95d",
   "metadata": {},
   "outputs": [],
   "source": [
    "Dual = Function_DualQuat_from_Pose(input)"
   ]
  },
  {
   "cell_type": "code",
   "execution_count": 43,
   "id": "e30b5f1e",
   "metadata": {},
   "outputs": [
    {
     "data": {
      "text/plain": [
       "DM([0.707107, 0, 0, 0.707107, -0, 0.707107, 5.55112e-17, 0])"
      ]
     },
     "execution_count": 43,
     "metadata": {},
     "output_type": "execute_result"
    }
   ],
   "source": [
    "Dual"
   ]
  },
  {
   "cell_type": "code",
   "execution_count": 44,
   "id": "f0162671",
   "metadata": {},
   "outputs": [],
   "source": [
    "trans = Function_DualQuat_get_trans(input)"
   ]
  },
  {
   "cell_type": "code",
   "execution_count": 45,
   "id": "3a92c95c",
   "metadata": {},
   "outputs": [
    {
     "data": {
      "text/plain": [
       "DM([-0, 1, 1, 0])"
      ]
     },
     "execution_count": 45,
     "metadata": {},
     "output_type": "execute_result"
    }
   ],
   "source": [
    "trans"
   ]
  },
  {
   "cell_type": "code",
   "execution_count": 46,
   "id": "08ab2453",
   "metadata": {},
   "outputs": [],
   "source": [
    "quat = Function_DualQuat_get_quat(input)"
   ]
  },
  {
   "cell_type": "code",
   "execution_count": 47,
   "id": "6fc2630c",
   "metadata": {},
   "outputs": [
    {
     "data": {
      "text/plain": [
       "DM([0.707107, 0, 0, 0.707107])"
      ]
     },
     "execution_count": 47,
     "metadata": {},
     "output_type": "execute_result"
    }
   ],
   "source": [
    "quat"
   ]
  },
  {
   "cell_type": "code",
   "execution_count": 48,
   "id": "09aa3dda",
   "metadata": {},
   "outputs": [],
   "source": [
    "trans_t = Function_DualQuat_get_trans_t(input_t)"
   ]
  },
  {
   "cell_type": "code",
   "execution_count": 49,
   "id": "0602d752",
   "metadata": {},
   "outputs": [
    {
     "data": {
      "text/plain": [
       "DM([0, -1, 1, 0])"
      ]
     },
     "execution_count": 49,
     "metadata": {},
     "output_type": "execute_result"
    }
   ],
   "source": [
    "trans_t"
   ]
  },
  {
   "cell_type": "code",
   "execution_count": 50,
   "id": "ee9392da",
   "metadata": {},
   "outputs": [],
   "source": [
    "quat_t = Function_DualQuat_get_quat_t(input_t)"
   ]
  },
  {
   "cell_type": "code",
   "execution_count": 51,
   "id": "4a696509",
   "metadata": {},
   "outputs": [
    {
     "data": {
      "text/plain": [
       "DM([0.653281, 0.270598, 0.270598, 0.653281])"
      ]
     },
     "execution_count": 51,
     "metadata": {},
     "output_type": "execute_result"
    }
   ],
   "source": [
    "quat_t"
   ]
  }
 ],
 "metadata": {
  "kernelspec": {
   "display_name": "Python 3.8.18 ('dual_quat')",
   "language": "python",
   "name": "python3"
  },
  "language_info": {
   "codemirror_mode": {
    "name": "ipython",
    "version": 3
   },
   "file_extension": ".py",
   "mimetype": "text/x-python",
   "name": "python",
   "nbconvert_exporter": "python",
   "pygments_lexer": "ipython3",
   "version": "3.8.18"
  },
  "vscode": {
   "interpreter": {
    "hash": "55fd25a4db1577015ee8267fb6134e577a469327f1df3f42c7ba64281f9f75b9"
   }
  }
 },
 "nbformat": 4,
 "nbformat_minor": 5
}
