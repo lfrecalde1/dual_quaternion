{
 "cells": [
  {
   "cell_type": "markdown",
   "id": "b68f6b2d",
   "metadata": {},
   "source": [
    "## Import Libraries"
   ]
  },
  {
   "cell_type": "code",
   "execution_count": 24,
   "id": "ad7580e4",
   "metadata": {},
   "outputs": [],
   "source": [
    "import time\n",
    "import rospy\n",
    "import numpy as np\n",
    "import casadi as ca\n",
    "import numpy as np\n",
    "import matplotlib.pyplot as plt\n",
    "from dual_quaternion import Quaternion\n",
    "from dual_quaternion import DualQuaternion\n",
    "from casadi import Function"
   ]
  },
  {
   "cell_type": "markdown",
   "id": "0d8fa1b6",
   "metadata": {},
   "source": [
    "## Working with Symbolic Variables"
   ]
  },
  {
   "cell_type": "code",
   "execution_count": 25,
   "id": "25695c40",
   "metadata": {},
   "outputs": [],
   "source": [
    "# Defining Mobile Robo Frame\n",
    "theta_1 = ca.MX.sym('theta_1', 1, 1)\n",
    "n_1 = ca.MX([0.0, 0.0, 1.0])\n",
    "q_1 = ca.vertcat(ca.cos(theta_1/2), ca.sin(theta_1/2)@n_1)\n",
    "tx_1 = ca.MX.sym(\"x_1\", 1, 1)\n",
    "ty_1 = ca.MX.sym(\"y_1\", 1, 1)\n",
    "t_1 = ca.vertcat(0.0, tx_1, ty_1, 0.0)\n",
    "\n",
    "# Time Derivaties\n",
    "theta_1p = ca.MX.sym('theta_1p', 1, 1)\n",
    "tx_1p = ca.MX.sym(\"x_1p\", 1, 1)\n",
    "ty_1p = ca.MX.sym(\"y_1p\", 1, 1)\n",
    "\n",
    "aux_symbolic_total = ca.vertcat(tx_1, ty_1, theta_1)\n",
    "symbolic_actions = ca.vertcat(tx_1, ty_1, theta_1)\n",
    "dual_1_data = ca.vertcat(tx_1, ty_1, theta_1)\n",
    "\n",
    "control = ca.vertcat(tx_1p, ty_1p, theta_1p)"
   ]
  },
  {
   "cell_type": "code",
   "execution_count": 26,
   "id": "955026ae",
   "metadata": {},
   "outputs": [],
   "source": [
    "# Defining Desired Frame\n",
    "theta_1d = ca.MX.sym('theta_1d', 1, 1)\n",
    "n_1d = ca.MX([0.0, 0.0, 1.0])\n",
    "q_1d = ca.vertcat(ca.cos(theta_1d/2), ca.sin(theta_1d/2)@n_1d)\n",
    "tx_1d = ca.MX.sym(\"x_1d\", 1, 1)\n",
    "ty_1d = ca.MX.sym(\"y_1d\", 1, 1)\n",
    "t_1d = ca.vertcat(0.0, tx_1d, ty_1d, 0.0)\n",
    "\n",
    "# Time Derivaties\n",
    "theta_1pd = ca.MX.sym('theta_1pd', 1, 1)\n",
    "tx_1pd = ca.MX.sym(\"x_1pd\", 1, 1)\n",
    "ty_1pd = ca.MX.sym(\"y_1pd\", 1, 1)\n",
    "\n",
    "dual_1d_data = ca.vertcat(tx_1d, ty_1d, theta_1d)\n",
    "\n",
    "# Defining the desired Velocity\n",
    "vx_1d = ca.MX.sym(\"vx_1d\", 1, 1)\n",
    "vy_1d = ca.MX.sym(\"vy_1d\", 1, 1)\n",
    "\n",
    "wz_1d = ca.MX.sym(\"wz_1d\", 1, 1)\n",
    "\n",
    "Vd = ca.vertcat(0.0, vx_1d, vy_1d, 0.0)\n",
    "Wd = ca.vertcat(0.0, 0.0, 0.0, wz_1d)\n",
    "\n",
    "w_1d_data = ca.vertcat(vx_1d, vy_1d, wz_1d)"
   ]
  },
  {
   "cell_type": "markdown",
   "id": "844c63c3",
   "metadata": {},
   "source": [
    "## Control Gains"
   ]
  },
  {
   "cell_type": "code",
   "execution_count": 27,
   "id": "fbf9847f",
   "metadata": {},
   "outputs": [],
   "source": [
    "# Defining the desired Velocity\n",
    "kr1 = ca.MX.sym(\"kr1\", 1, 1)\n",
    "kr2 = ca.MX.sym(\"kr2\", 1, 1)\n",
    "kr3 = ca.MX.sym(\"kr3\", 1, 1)\n",
    "\n",
    "kd1 = ca.MX.sym(\"kd1\", 1, 1)\n",
    "kd2 = ca.MX.sym(\"kd2\", 1, 1)\n",
    "kd3 = ca.MX.sym(\"kd3\", 1, 1)\n",
    "\n",
    "\n",
    "Kr = ca.vertcat(0.0, kr1, kr2, kr3)\n",
    "Kd = ca.vertcat(0.0, kd1, kd2, kd3)\n",
    "\n",
    "k_data = ca.vertcat(kr1, kr2, kr3, kd1, kd2, kd3)"
   ]
  },
  {
   "cell_type": "markdown",
   "id": "b1ed4df9",
   "metadata": {},
   "source": []
  },
  {
   "cell_type": "markdown",
   "id": "bdc21f8d",
   "metadata": {},
   "source": [
    "### Computing Sequential Transformations"
   ]
  },
  {
   "cell_type": "code",
   "execution_count": 28,
   "id": "a5952a60",
   "metadata": {},
   "outputs": [
    {
     "data": {
      "text/plain": [
       "Quaternion: (0.5*mac(horzcat(horzcat(0, (-x_1), (-y_1), 0)', horzcat(x_1, 0, 0, y_1)', horzcat(y_1, 0, 0, (-x_1))', horzcat(0, (-y_1), x_1, 0)')',vertcat(cos((theta_1/2)), ([0, 0, 1]*sin((theta_1/2)))),zeros(4x1)))"
      ]
     },
     "execution_count": 28,
     "metadata": {},
     "output_type": "execute_result"
    }
   ],
   "source": [
    "Q1 = DualQuaternion.from_pose(quat = q_1, trans = t_1)\n",
    "Q1.get_dual"
   ]
  },
  {
   "cell_type": "code",
   "execution_count": 29,
   "id": "77533880",
   "metadata": {},
   "outputs": [],
   "source": [
    "Q1d = DualQuaternion.from_pose(quat = q_1d, trans = t_1d)\n"
   ]
  },
  {
   "cell_type": "code",
   "execution_count": 30,
   "id": "7854ee9f",
   "metadata": {},
   "outputs": [],
   "source": [
    "W1d = DualQuaternion(q_real= Quaternion(q = Wd), q_dual= Quaternion(q= Vd))"
   ]
  },
  {
   "cell_type": "code",
   "execution_count": 31,
   "id": "cb71b279",
   "metadata": {},
   "outputs": [],
   "source": [
    "Kp =  DualQuaternion(q_real= Quaternion(q = Kr), q_dual= Quaternion(q= Kd))"
   ]
  },
  {
   "cell_type": "markdown",
   "id": "b188b839",
   "metadata": {},
   "source": [
    "## Generating Function Using CasADi"
   ]
  },
  {
   "cell_type": "code",
   "execution_count": 32,
   "id": "52d347b3",
   "metadata": {},
   "outputs": [],
   "source": [
    "Function_DualQuat_total = Function('DualQuat_total', [aux_symbolic_total], [Q1.get[:, 0]])\n",
    "Function_DualQuat_total_trans = Function('DualQuat_total_trans', [aux_symbolic_total], [Q1.get_trans.get[:, 0]])\n",
    "Function_DualQuat_total_quat = Function('DualQuat_total_quat', [aux_symbolic_total], [Q1.get_quat.get[:, 0]])"
   ]
  },
  {
   "cell_type": "markdown",
   "id": "e3af682d",
   "metadata": {},
   "source": [
    "## Using Functions"
   ]
  },
  {
   "cell_type": "code",
   "execution_count": 33,
   "id": "98f4df6a",
   "metadata": {},
   "outputs": [
    {
     "data": {
      "text/plain": [
       "DM([0.707107, 0, 0, 0.707107, 0, 1.06066, 2.47487, 0])"
      ]
     },
     "execution_count": 33,
     "metadata": {},
     "output_type": "execute_result"
    }
   ],
   "source": [
    "input_t = np.array([-2, 5, np.pi/2])\n",
    "dual = Function_DualQuat_total(input_t)\n",
    "dual"
   ]
  },
  {
   "cell_type": "code",
   "execution_count": 34,
   "id": "48590c2e",
   "metadata": {},
   "outputs": [
    {
     "data": {
      "text/plain": [
       "DM([0, -2, 5, 0])"
      ]
     },
     "execution_count": 34,
     "metadata": {},
     "output_type": "execute_result"
    }
   ],
   "source": [
    "input_t = np.array([-2, 5, np.pi/2])\n",
    "trans = Function_DualQuat_total_trans(input_t)\n",
    "trans"
   ]
  },
  {
   "cell_type": "code",
   "execution_count": 35,
   "id": "305f720b",
   "metadata": {},
   "outputs": [
    {
     "data": {
      "text/plain": [
       "DM([0.707107, 0, 0, 0.707107])"
      ]
     },
     "execution_count": 35,
     "metadata": {},
     "output_type": "execute_result"
    }
   ],
   "source": [
    "input_t = np.array([-2, 5, np.pi/2])\n",
    "quat = Function_DualQuat_total_quat(input_t)\n",
    "quat"
   ]
  },
  {
   "cell_type": "markdown",
   "id": "0dedcee1",
   "metadata": {},
   "source": [
    "### Calculating Jacobians"
   ]
  },
  {
   "cell_type": "code",
   "execution_count": 36,
   "id": "f7170792",
   "metadata": {},
   "outputs": [
    {
     "data": {
      "text/plain": [
       "(8, 3)"
      ]
     },
     "execution_count": 36,
     "metadata": {},
     "output_type": "execute_result"
    }
   ],
   "source": [
    "J = ca.jacobian(Q1.get[:, 0], symbolic_actions)\n",
    "J.shape"
   ]
  },
  {
   "cell_type": "code",
   "execution_count": 37,
   "id": "779bfc86",
   "metadata": {},
   "outputs": [],
   "source": [
    "Function_J = Function(\"Function_J\", [aux_symbolic_total], [J])"
   ]
  },
  {
   "cell_type": "code",
   "execution_count": 38,
   "id": "13f60f84",
   "metadata": {},
   "outputs": [
    {
     "name": "stdout",
     "output_type": "stream",
     "text": [
      "\n",
      "[[00, 00, -0.135773], \n",
      " [00, 00, 0], \n",
      " [00, 00, 0], \n",
      " [00, 00, 0.481213], \n",
      " [-0, -0, 0], \n",
      " [0.481213, 0.135773, 0.863598], \n",
      " [-0.135773, 0.481213, -1.54247], \n",
      " [0, -0, 0]]\n"
     ]
    }
   ],
   "source": [
    "input_t = np.array([5, 5, 0.55])\n",
    "Jacobian = Function_J(input_t)\n",
    "print(Jacobian)"
   ]
  },
  {
   "cell_type": "markdown",
   "id": "e642d859",
   "metadata": {},
   "source": [
    "## Computing Differential Kinematics"
   ]
  },
  {
   "cell_type": "code",
   "execution_count": 39,
   "id": "c9a23bb6",
   "metadata": {},
   "outputs": [],
   "source": [
    "diff_kinematics = J @ control\n",
    "\n",
    "Function_diff_kinematics = Function(\"Function_diff_kinematics\", [aux_symbolic_total, control], [diff_kinematics])"
   ]
  },
  {
   "cell_type": "code",
   "execution_count": 40,
   "id": "880b7354",
   "metadata": {},
   "outputs": [
    {
     "data": {
      "text/plain": [
       "DM([0, 0, 0, 0, 0, 0.157965, -0.0862966, 0])"
      ]
     },
     "execution_count": 40,
     "metadata": {},
     "output_type": "execute_result"
    }
   ],
   "source": [
    "input_t = np.array([-3.15, 0.0, 1])\n",
    "input_t_p = np.array([0.36, 0.0, 0.0])\n",
    "Xp = Function_diff_kinematics(input_t, input_t_p)\n",
    "Xp"
   ]
  },
  {
   "cell_type": "code",
   "execution_count": 41,
   "id": "53147ba0",
   "metadata": {},
   "outputs": [],
   "source": [
    "# Compute short path to the desired quaternion\n",
    "q_error = ca.MX.sym('q_error', 8, 1)\n",
    "\n",
    "# Define the function\n",
    "f_error = ca.Function('f_error', [q_error], [ca.if_else(q_error[0, 0] >= 0, q_error, -q_error)])"
   ]
  },
  {
   "cell_type": "code",
   "execution_count": 42,
   "id": "f9f03236",
   "metadata": {},
   "outputs": [
    {
     "name": "stdout",
     "output_type": "stream",
     "text": [
      "[-2.  1.  0. -3.  5. -1.  8.  0.]\n",
      "[2, -1, 0, 3, -5, 1, -8, 0]\n"
     ]
    }
   ],
   "source": [
    "aux = np.array([-2.0, 1.0, 0.0, -3, 5, -1, 8, 0])\n",
    "print(aux)\n",
    "\n",
    "aux = f_error(aux)\n",
    "print(aux)"
   ]
  },
  {
   "cell_type": "markdown",
   "id": "c8eed578",
   "metadata": {},
   "source": [
    "## Computing error"
   ]
  },
  {
   "cell_type": "code",
   "execution_count": 43,
   "id": "2e5a595d",
   "metadata": {},
   "outputs": [],
   "source": [
    "def dual_control(qd, wd, q, kp, qd_data, q_data, wd_data, kp_data):\n",
    "    q_e = q * qd.conjugate()\n",
    "    \n",
    "    # Shortest p\n",
    "\n",
    "    q_error = q_e.get[:, 0]\n",
    "\n",
    "    q_error = f_error(q_error)\n",
    "\n",
    "    q_e.error_path\n",
    "\n",
    "    # Apply log mapping\n",
    "    q_e_ln = q_e.ln_control()\n",
    "\n",
    "    # Conjugate\n",
    "    q_e_c = q_e.conjugate()\n",
    "\n",
    "    # Control Law \n",
    "    U = -2*q_e_ln.vector_dot_product(kp) + q_e * wd * q_e_c\n",
    "\n",
    "    U_control = Function('U_control', [qd_data, q_data, wd_data, kp_data], [U.get[:, 0]])\n",
    "    return U_control"
   ]
  },
  {
   "cell_type": "code",
   "execution_count": 44,
   "id": "e04c6f78",
   "metadata": {},
   "outputs": [],
   "source": [
    "control_law = dual_control(Q1d, W1d, Q1, Kp, dual_1d_data, dual_1_data, w_1d_data, k_data)"
   ]
  },
  {
   "cell_type": "code",
   "execution_count": 45,
   "id": "3cfd425f",
   "metadata": {},
   "outputs": [],
   "source": [
    "dual_1 = np.array([2.0, 2.0, 0.0])\n",
    "dual_1d = np.array([2.0, -2.0, np.pi/2])\n"
   ]
  },
  {
   "cell_type": "code",
   "execution_count": 46,
   "id": "fc7a8c00",
   "metadata": {},
   "outputs": [
    {
     "ename": "NameError",
     "evalue": "name 'qe_function' is not defined",
     "output_type": "error",
     "traceback": [
      "\u001b[0;31m---------------------------------------------------------------------------\u001b[0m",
      "\u001b[0;31mNameError\u001b[0m                                 Traceback (most recent call last)",
      "Cell \u001b[0;32mIn[46], line 1\u001b[0m\n\u001b[0;32m----> 1\u001b[0m qe \u001b[39m=\u001b[39m qe_function(dual_1, dual_1d)\n\u001b[1;32m      2\u001b[0m qe\n",
      "\u001b[0;31mNameError\u001b[0m: name 'qe_function' is not defined"
     ]
    }
   ],
   "source": [
    "qe = qe_function(dual_1, dual_1d)\n",
    "qe"
   ]
  },
  {
   "cell_type": "code",
   "execution_count": null,
   "id": "f8005e36",
   "metadata": {},
   "outputs": [],
   "source": []
  }
 ],
 "metadata": {
  "kernelspec": {
   "display_name": "Python 3.8.18 ('dual_quat')",
   "language": "python",
   "name": "python3"
  },
  "language_info": {
   "codemirror_mode": {
    "name": "ipython",
    "version": 3
   },
   "file_extension": ".py",
   "mimetype": "text/x-python",
   "name": "python",
   "nbconvert_exporter": "python",
   "pygments_lexer": "ipython3",
   "version": "3.8.18"
  },
  "vscode": {
   "interpreter": {
    "hash": "55fd25a4db1577015ee8267fb6134e577a469327f1df3f42c7ba64281f9f75b9"
   }
  }
 },
 "nbformat": 4,
 "nbformat_minor": 5
}
