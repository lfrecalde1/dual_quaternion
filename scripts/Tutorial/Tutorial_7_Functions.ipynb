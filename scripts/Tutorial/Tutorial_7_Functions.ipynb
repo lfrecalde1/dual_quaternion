{
 "cells": [
  {
   "cell_type": "markdown",
   "id": "b68f6b2d",
   "metadata": {},
   "source": [
    "## Import Libraries"
   ]
  },
  {
   "cell_type": "code",
   "execution_count": 553,
   "id": "ad7580e4",
   "metadata": {},
   "outputs": [],
   "source": [
    "import time\n",
    "import rospy\n",
    "import numpy as np\n",
    "import casadi as ca\n",
    "import numpy as np\n",
    "import matplotlib.pyplot as plt\n",
    "from dual_quaternion import Quaternion\n",
    "from dual_quaternion import DualQuaternion\n",
    "from casadi import Function\n",
    "from dual_quaternion import plot_states_quaternion, plot_states_position, fancy_plots_4, fancy_plots_1, plot_norm_quat, plot_angular_velocities, plot_linear_velocities, fancy_plots_3, plot_norm_real, plot_norm_dual\n"
   ]
  },
  {
   "cell_type": "markdown",
   "id": "0d8fa1b6",
   "metadata": {},
   "source": [
    "## Working with Symbolic Variables"
   ]
  },
  {
   "cell_type": "code",
   "execution_count": 554,
   "id": "25695c40",
   "metadata": {},
   "outputs": [],
   "source": [
    "# Defining Mobile Robot Frame\n",
    "qw_1 = ca.MX.sym('qw_1', 1, 1)\n",
    "qx_1 = ca.MX.sym('qx_1', 1, 1)\n",
    "qy_1 = ca.MX.sym('qy_1', 1, 1)\n",
    "qz_1 = ca.MX.sym('qz_1', 1, 1)\n",
    "q_1 = ca.vertcat(qw_1, qx_1, qy_1, qz_1)\n",
    "dw_1 = ca.MX.sym(\"dw_1\", 1, 1)\n",
    "dx_1 = ca.MX.sym(\"dx_1\", 1, 1)\n",
    "dy_1 = ca.MX.sym(\"dy_1\", 1, 1)\n",
    "dz_1 = ca.MX.sym(\"dz_1\", 1, 1)\n",
    "d_1 = ca.vertcat(dw_1, dx_1, dy_1, dz_1)\n",
    "\n",
    "\n",
    "aux_symbolic_total = ca.vertcat(qw_1, qx_1, qy_1, qz_1, dw_1, dx_1, dy_1, dz_1)\n",
    "symbolic_actions = ca.vertcat(qw_1, qx_1, qy_1, qz_1, dw_1,dx_1, dy_1, dz_1)\n",
    "dual_1_data = ca.vertcat(qw_1, qx_1, qy_1, qz_1, dw_1,dx_1, dy_1, dz_1)"
   ]
  },
  {
   "cell_type": "code",
   "execution_count": 555,
   "id": "b2403c2e",
   "metadata": {},
   "outputs": [],
   "source": [
    "theta_1_aux = ca.MX.sym('theta_1_aux', 1, 1)\n",
    "n_1_aux = ca.MX([0.0, 0.0, 1.0])\n",
    "q_1_aux = ca.vertcat(ca.cos(theta_1_aux/2), ca.sin(theta_1_aux/2)@n_1_aux)\n",
    "tx_1_aux = ca.MX.sym(\"tx_1_aux\", 1, 1)\n",
    "ty_1_aux = ca.MX.sym(\"ty_1_aux\", 1, 1)\n",
    "t_1_aux = ca.vertcat(0.0, tx_1_aux, ty_1_aux, 0.0)\n",
    "aux_symbolic_total_aux = ca.vertcat(theta_1_aux, tx_1_aux, ty_1_aux)"
   ]
  },
  {
   "cell_type": "code",
   "execution_count": 556,
   "id": "955026ae",
   "metadata": {},
   "outputs": [],
   "source": [
    "# Defining Desired Frame\n",
    "qw_1d = ca.MX.sym('qw_1d', 1, 1)\n",
    "qx_1d = ca.MX.sym('qx_1d', 1, 1)\n",
    "qy_1d = ca.MX.sym('qy_1d', 1, 1)\n",
    "qz_1d = ca.MX.sym('qz_1d', 1, 1)\n",
    "\n",
    "q_1d = ca.vertcat(qw_1d, qx_1d, qy_1d, qz_1d)\n",
    "\n",
    "dw_1d = ca.MX.sym(\"dw_1d\", 1, 1)\n",
    "dx_1d = ca.MX.sym(\"dx_1d\", 1, 1)\n",
    "dy_1d = ca.MX.sym(\"dy_1d\", 1, 1)\n",
    "dz_1d = ca.MX.sym(\"dz_1d\", 1, 1)\n",
    "\n",
    "d_1d = ca.vertcat(dw_1d, dx_1d, dy_1d, dz_1d)\n",
    "\n",
    "\n",
    "dual_1d_data = ca.vertcat(qw_1d, qx_1d, qy_1d, qz_1d, dw_1d, dx_1d, dy_1d, dz_1d)\n",
    "\n",
    "# Defining the desired Velocity\n",
    "vx_1d = ca.MX.sym(\"vx_1d\", 1, 1)\n",
    "vy_1d = ca.MX.sym(\"vy_1d\", 1, 1)\n",
    "vz_1d = ca.MX.sym(\"vz_1d\", 1, 1)\n",
    "\n",
    "wx_1d = ca.MX.sym(\"wx_1d\", 1, 1)\n",
    "wy_1d = ca.MX.sym(\"wy_1d\", 1, 1)\n",
    "wz_1d = ca.MX.sym(\"wz_1d\", 1, 1)\n",
    "\n",
    "Vd = ca.vertcat(0.0, vx_1d, vy_1d, vz_1d)\n",
    "Wd = ca.vertcat(0.0, wx_1d, wy_1d, wz_1d)\n",
    "\n",
    "w_1d_data = ca.vertcat(wx_1d, wy_1d, wz_1d, vx_1d, vy_1d, vz_1d)"
   ]
  },
  {
   "cell_type": "markdown",
   "id": "844c63c3",
   "metadata": {},
   "source": [
    "## Control Gains"
   ]
  },
  {
   "cell_type": "code",
   "execution_count": 557,
   "id": "fbf9847f",
   "metadata": {},
   "outputs": [],
   "source": [
    "# Defining the desired Velocity\n",
    "kr1 = ca.MX.sym(\"kr1\", 1, 1)\n",
    "kr2 = ca.MX.sym(\"kr2\", 1, 1)\n",
    "kr3 = ca.MX.sym(\"kr3\", 1, 1)\n",
    "\n",
    "kd1 = ca.MX.sym(\"kd1\", 1, 1)\n",
    "kd2 = ca.MX.sym(\"kd2\", 1, 1)\n",
    "kd3 = ca.MX.sym(\"kd3\", 1, 1)\n",
    "\n",
    "\n",
    "Kr = ca.vertcat(0.0, kr1, kr2, kr3)\n",
    "Kd = ca.vertcat(0.0, kd1, kd2, kd3)\n",
    "\n",
    "k_data = ca.vertcat(kr1, kr2, kr3, kd1, kd2, kd3)\n",
    "\n",
    "ts = ca.MX.sym(\"ts\", 1, 1)\n"
   ]
  },
  {
   "cell_type": "markdown",
   "id": "b1ed4df9",
   "metadata": {},
   "source": []
  },
  {
   "cell_type": "markdown",
   "id": "bdc21f8d",
   "metadata": {},
   "source": [
    "### Computing Sequential Transformations"
   ]
  },
  {
   "cell_type": "code",
   "execution_count": 558,
   "id": "a5952a60",
   "metadata": {},
   "outputs": [
    {
     "data": {
      "text/plain": [
       "DualQuaternion(Qr=Quaternion: vertcat(qw_1, qx_1, qy_1, qz_1), Qd=Quaternion: vertcat(dw_1, dx_1, dy_1, dz_1))"
      ]
     },
     "execution_count": 558,
     "metadata": {},
     "output_type": "execute_result"
    }
   ],
   "source": [
    "Q1 = DualQuaternion(q_real= Quaternion(q = q_1), q_dual = Quaternion(q = d_1))\n",
    "Q1"
   ]
  },
  {
   "cell_type": "code",
   "execution_count": 559,
   "id": "77533880",
   "metadata": {},
   "outputs": [
    {
     "data": {
      "text/plain": [
       "DualQuaternion(Qr=Quaternion: vertcat(qw_1d, qx_1d, qy_1d, qz_1d), Qd=Quaternion: vertcat(dw_1d, dx_1d, dy_1d, dz_1d))"
      ]
     },
     "execution_count": 559,
     "metadata": {},
     "output_type": "execute_result"
    }
   ],
   "source": [
    "Q1d = DualQuaternion(q_real= Quaternion(q = q_1d), q_dual = Quaternion(q = d_1d))\n",
    "Q1d"
   ]
  },
  {
   "cell_type": "code",
   "execution_count": 560,
   "id": "7854ee9f",
   "metadata": {},
   "outputs": [
    {
     "data": {
      "text/plain": [
       "DualQuaternion(Qr=Quaternion: vertcat(0, wx_1d, wy_1d, wz_1d), Qd=Quaternion: vertcat(0, vx_1d, vy_1d, vz_1d))"
      ]
     },
     "execution_count": 560,
     "metadata": {},
     "output_type": "execute_result"
    }
   ],
   "source": [
    "W1d = DualQuaternion(q_real= Quaternion(q = Wd), q_dual= Quaternion(q= Vd))\n",
    "W1d"
   ]
  },
  {
   "cell_type": "code",
   "execution_count": 561,
   "id": "cb71b279",
   "metadata": {},
   "outputs": [
    {
     "data": {
      "text/plain": [
       "DualQuaternion(Qr=Quaternion: vertcat(0, kr1, kr2, kr3), Qd=Quaternion: vertcat(0, kd1, kd2, kd3))"
      ]
     },
     "execution_count": 561,
     "metadata": {},
     "output_type": "execute_result"
    }
   ],
   "source": [
    "Kp =  DualQuaternion(q_real= Quaternion(q = Kr), q_dual= Quaternion(q= Kd))\n",
    "Kp"
   ]
  },
  {
   "cell_type": "code",
   "execution_count": 562,
   "id": "08b22364",
   "metadata": {},
   "outputs": [
    {
     "data": {
      "text/plain": [
       "MX((0.5*mac(horzcat(horzcat(0, (-tx_1_aux), (-ty_1_aux), 0)', horzcat(tx_1_aux, 0, 0, ty_1_aux)', horzcat(ty_1_aux, 0, 0, (-tx_1_aux))', horzcat(0, (-ty_1_aux), tx_1_aux, 0)')',vertcat(cos((theta_1_aux/2)), ([0, 0, 1]*sin((theta_1_aux/2)))),zeros(4x1))))"
      ]
     },
     "execution_count": 562,
     "metadata": {},
     "output_type": "execute_result"
    }
   ],
   "source": [
    "Q1_pose =  DualQuaternion.from_pose(quat = q_1_aux, trans = t_1_aux)\n",
    "Q1_pose.get_dual.get[:,0]"
   ]
  },
  {
   "cell_type": "markdown",
   "id": "b188b839",
   "metadata": {},
   "source": [
    "## Generating Function Using CasADi"
   ]
  },
  {
   "cell_type": "code",
   "execution_count": 563,
   "id": "52d347b3",
   "metadata": {},
   "outputs": [],
   "source": [
    "Function_DualQuat_total = Function('DualQuat_total', [aux_symbolic_total], [Q1.get[:, 0]])\n",
    "Function_DualQuat_total_trans = Function('DualQuat_total_trans', [aux_symbolic_total], [Q1.get_trans.get[:, 0]])\n",
    "Function_DualQuat_total_quat = Function('DualQuat_total_quat', [aux_symbolic_total], [Q1.get_quat.get[:, 0]])\n",
    "Function_DualQuat_pose = Function('DualQuat_pose', [theta_1_aux, tx_1_aux, ty_1_aux], [Q1_pose.get[:, 0]])\n"
   ]
  },
  {
   "cell_type": "markdown",
   "id": "e3af682d",
   "metadata": {},
   "source": [
    "## Using Functions"
   ]
  },
  {
   "cell_type": "code",
   "execution_count": 564,
   "id": "98f4df6a",
   "metadata": {},
   "outputs": [
    {
     "name": "stdout",
     "output_type": "stream",
     "text": [
      "[0.707107, -0, -0, -0.707107, 0, -2.47487, -1.06066, 0]\n",
      "[0, -5, 2, 0]\n"
     ]
    }
   ],
   "source": [
    "theta1 = -np.pi/2\n",
    "tx1 = -5.0\n",
    "ty1 = 2.0\n",
    "\n",
    "dual_1_pose = Function_DualQuat_pose(theta1, tx1, ty1)\n",
    "dual = Function_DualQuat_total(dual_1_pose)\n",
    "dual_trans = Function_DualQuat_total_trans(dual)\n",
    "dual_quat = Function_DualQuat_total_quat(dual)\n",
    "\n",
    "print(dual_1_pose)\n",
    "print(dual_trans)\n",
    "#dual"
   ]
  },
  {
   "cell_type": "code",
   "execution_count": 565,
   "id": "53147ba0",
   "metadata": {},
   "outputs": [],
   "source": [
    "# Compute short path to the desired quaternion\n",
    "q_error = ca.MX.sym('q_error', 8, 1)\n",
    "\n",
    "# Define the function\n",
    "f_error = ca.Function('f_error', [q_error], [ca.if_else(q_error[0, 0] >= 0, q_error, -q_error)])"
   ]
  },
  {
   "cell_type": "code",
   "execution_count": 566,
   "id": "f9f03236",
   "metadata": {},
   "outputs": [
    {
     "name": "stdout",
     "output_type": "stream",
     "text": [
      "[-2.  1.  0. -3.  5. -1.  8.  0.]\n",
      "[2, -1, 0, 3, -5, 1, -8, 0]\n"
     ]
    }
   ],
   "source": [
    "aux = np.array([-2.0, 1.0, 0.0, -3, 5, -1, 8, 0])\n",
    "print(aux)\n",
    "\n",
    "aux = f_error(aux)\n",
    "print(aux)"
   ]
  },
  {
   "cell_type": "code",
   "execution_count": 567,
   "id": "4b22458f",
   "metadata": {},
   "outputs": [],
   "source": [
    "def dual_velocity_f(W, dual, W_data, dual_data):\n",
    "    w = W.get_real\n",
    "    v = W.get_dual\n",
    "    p = dual.get_trans\n",
    "\n",
    "    real = w\n",
    "    dual = v + p.cross(w)\n",
    "    \n",
    "    dual_velocity = DualQuaternion(q_real = real, q_dual = dual)\n",
    "    aux = dual_velocity.get[:, 0]\n",
    "    velocity = ca.vertcat(aux[1, 0], aux[2, 0], aux[3, 0], aux[5, 0], aux[6, 0], aux[7, 0])\n",
    "    f_velocity = Function('f_velocity', [W_data, dual_data], [velocity])\n",
    "    return f_velocity"
   ]
  },
  {
   "cell_type": "markdown",
   "id": "c8eed578",
   "metadata": {},
   "source": [
    "## Computing Control Law"
   ]
  },
  {
   "cell_type": "code",
   "execution_count": 568,
   "id": "2e5a595d",
   "metadata": {},
   "outputs": [],
   "source": [
    "def dual_control(qd, wd, q, kp, qd_data, wd_data, q_data, kp_data):\n",
    "    q_e = q * qd.conjugate()\n",
    "    \n",
    "    q_error = f_error(q_e.get[:, 0])\n",
    "\n",
    "    q_e = DualQuaternion(q_real=Quaternion(q = q_error[0:4, 0]), q_dual= Quaternion(q = q_error[4:8, 0]))\n",
    "    # Apply log mapping\n",
    "    q_e_ln = q_e.ln_control()\n",
    "\n",
    "    # Conjugate\n",
    "    q_e_c = q_e.conjugate()\n",
    "\n",
    "    # Control Law \n",
    "    U = -2*q_e_ln.vector_dot_product(kp) + q_e * wd * q_e_c\n",
    "    aux = U.get[:, 0]\n",
    "    control_values = ca.vertcat(aux[1, 0], aux[2, 0], aux[3, 0], aux[5, 0], aux[6, 0], aux[7, 0])\n",
    "\n",
    "    f_control = Function('f_control', [qd_data, wd_data, q_data, kp_data], [control_values])\n",
    "    return f_control"
   ]
  },
  {
   "cell_type": "markdown",
   "id": "7eae6e99",
   "metadata": {},
   "source": [
    "## Generating functions based on CasADi"
   ]
  },
  {
   "cell_type": "code",
   "execution_count": 569,
   "id": "e04c6f78",
   "metadata": {},
   "outputs": [],
   "source": [
    "control_law = dual_control(Q1d, W1d, Q1, Kp, dual_1d_data, w_1d_data, dual_1_data, k_data)\n",
    "dual_velocity = dual_velocity_f(W1d, Q1d, w_1d_data, dual_1d_data)"
   ]
  },
  {
   "cell_type": "markdown",
   "id": "ff010602",
   "metadata": {},
   "source": [
    "## Verifying Functions"
   ]
  },
  {
   "cell_type": "code",
   "execution_count": 570,
   "id": "3cfd425f",
   "metadata": {},
   "outputs": [
    {
     "data": {
      "text/plain": [
       "DM([0, 0, 3.14159, 6, -1.77636e-15, 0])"
      ]
     },
     "execution_count": 570,
     "metadata": {},
     "output_type": "execute_result"
    }
   ],
   "source": [
    "theta1 = -np.pi/2\n",
    "tx1 = -5.0\n",
    "ty1 = 2.0\n",
    "dual_1_pose = Function_DualQuat_pose(theta1, tx1, ty1)\n",
    "dual_1 = Function_DualQuat_total(dual_1_pose)\n",
    "\n",
    "\n",
    "theta1d = np.pi/2\n",
    "tx1d = 2.0\n",
    "ty1d = -2.0\n",
    "dual_1d_pose = Function_DualQuat_pose(theta1d, tx1d, ty1d)\n",
    "dual_1d = Function_DualQuat_total(dual_1d_pose)\n",
    "\n",
    "\n",
    "w_d = np.array([0.0, 0.0, 0.0, 0.0, 0.0, 0.0])\n",
    "kp = np.array([2.0, 2.0, 2.0, 2.0, 2.0, 2.0])\n",
    "\n",
    "w_dual = dual_velocity(w_d, dual_1d)\n",
    "control = control_law(dual_1d_pose, w_dual, dual_1_pose, kp)\n",
    "control"
   ]
  },
  {
   "cell_type": "markdown",
   "id": "c912f673",
   "metadata": {},
   "source": [
    "## Runge Kuta 4"
   ]
  },
  {
   "cell_type": "code",
   "execution_count": 571,
   "id": "f8005e36",
   "metadata": {},
   "outputs": [],
   "source": [
    "def quatdot(quat, omega):\n",
    "    quat_data = quat.get_real\n",
    "    dual_data =  quat.get_dual\n",
    "\n",
    "    # Auxiliary variable in order to avoid numerical issues\n",
    "    norm_r, norm_d = quat.norm_dual\n",
    "    K_quat = 2\n",
    "    quat_error = 1 - norm_r\n",
    "    dual_error = norm_d\n",
    "\n",
    "    aux_1 = quat_data * (K_quat*quat_error)\n",
    "    aux_2 = dual_data * (K_quat*dual_error)\n",
    "\n",
    "    aux_dual = DualQuaternion(q_real = aux_1, q_dual = aux_2)\n",
    "\n",
    "    #q_dot = (1/2)*(omega * quat) + aux_dual\n",
    "    q_dot = (1/2)*(omega * quat)\n",
    "    return q_dot\n",
    "\n",
    "def f_rk4_c(quat, omega, ts, quat_data, omega_data, ts_data):\n",
    "    # Function that computes \n",
    "    k1 = quatdot(quat, omega)\n",
    "    k2 = quatdot(quat + (1/2)*k1*ts, omega)\n",
    "    k3 = quatdot(quat + (1/2)*k2*ts, omega)\n",
    "    k4 = quatdot(quat + (1)*k3*ts, omega)\n",
    "    # Compute forward Euler method\n",
    "    quat = quat + (1/6)*(k1 + 2*k2 + 2*k3 + k4)*ts\n",
    "    f_rk4 = Function('f_rk4', [quat_data, omega_data, ts_data], [quat.get[:, 0]])\n",
    "    return f_rk4"
   ]
  },
  {
   "cell_type": "code",
   "execution_count": 572,
   "id": "371aa9ce",
   "metadata": {},
   "outputs": [
    {
     "data": {
      "text/plain": [
       "Function(f_rk4:(i0[8],i1[6],i2)->(o0[8]) MXFunction)"
      ]
     },
     "execution_count": 572,
     "metadata": {},
     "output_type": "execute_result"
    }
   ],
   "source": [
    "f_rk4 = f_rk4_c(Q1d, W1d, ts, dual_1d_data, w_1d_data, ts)\n",
    "f_rk4"
   ]
  },
  {
   "cell_type": "markdown",
   "id": "d123e003",
   "metadata": {},
   "source": [
    "### Simulation"
   ]
  },
  {
   "cell_type": "code",
   "execution_count": 573,
   "id": "350606e5",
   "metadata": {},
   "outputs": [],
   "source": [
    "sample_time = 0.01\n",
    "t_f = 20\n",
    "\n",
    "# Time defintion aux variable\n",
    "t = np.arange(0, t_f + sample_time, sample_time)\n",
    "\n",
    "# Initial DualQuaternion\n",
    "theta1 = np.pi/2\n",
    "tx1 = 2.0\n",
    "ty1 = -2.0\n",
    "dual_1_pose = Function_DualQuat_pose(theta1, tx1, ty1)\n",
    "dual_1 = Function_DualQuat_total(dual_1_pose)\n",
    "\n",
    "\n",
    "# Desired Dual Quaternion\n",
    "theta1d = -np.pi/2\n",
    "tx1d = -5.0\n",
    "ty1d = 2.0\n",
    "dual_1d_pose = Function_DualQuat_pose(theta1d, tx1d, ty1d)\n",
    "dual_1d = Function_DualQuat_total(dual_1d_pose)\n",
    "\n",
    "# Desired Velociy\n",
    "w_1d = np.array([0.0, 0.0, 0.5, 0.1, 0.0, 0.0])\n",
    "kp = np.array([2.0, 2.0, 2.0, 2.0, 2.0, 2.0]) \n",
    "\n",
    "# Data matrices\n",
    "Q1_data = np.zeros((8, t.shape[0] + 1), dtype=np.double)\n",
    "aux_quat_1 = np.array(Function_DualQuat_total_quat(dual_1))\n",
    "aux_trans_1 = np.array(Function_DualQuat_total_trans(dual_1))\n",
    "\n",
    "Q1_data[0:4, 0] = aux_quat_1.reshape((4, ))\n",
    "Q1_data[4:8, 0] = aux_trans_1.reshape((4, ))\n",
    "\n",
    "Q1d_data = np.zeros((8, t.shape[0] + 1), dtype=np.double)\n",
    "aux_quat_1d = np.array(Function_DualQuat_total_quat(dual_1d))\n",
    "aux_trans_1d = np.array(Function_DualQuat_total_trans(dual_1d))\n",
    "\n",
    "Q1d_data[0:4, 0] = aux_quat_1d.reshape((4, ))\n",
    "Q1d_data[4:8, 0] = aux_trans_1d.reshape((4, ))\n",
    "\n",
    "for k in range(0, t.shape[0]):\n",
    "    # Reference Dual Quaternion\n",
    "    w1d_dual = dual_velocity(w_1d, dual_1d)\n",
    "    dual_1d = f_rk4(dual_1d, w1d_dual, sample_time)\n",
    "\n",
    "    # Control Law\n",
    "    control_values = control_law(dual_1d, w1d_dual, dual_1, kp)\n",
    "\n",
    "    # Evolution fo the system\n",
    "    dual_1 = f_rk4(dual_1, control_values, sample_time)\n",
    "\n",
    "    # Save information\n",
    "    aux_quat_1 = np.array(Function_DualQuat_total_quat(dual_1))\n",
    "    aux_trans_1 = np.array(Function_DualQuat_total_trans(dual_1))\n",
    "\n",
    "    Q1_data[0:4, k+1] = aux_quat_1.reshape((4, ))\n",
    "    Q1_data[4:8, k+1] = aux_trans_1.reshape((4, ))\n",
    "\n",
    "    aux_quat_1d = np.array(Function_DualQuat_total_quat(dual_1d))\n",
    "    aux_trans_1d = np.array(Function_DualQuat_total_trans(dual_1d))\n",
    "\n",
    "    Q1d_data[0:4, k+1] = aux_quat_1d.reshape((4, ))\n",
    "    Q1d_data[4:8, k+1] = aux_trans_1d.reshape((4, ))"
   ]
  },
  {
   "cell_type": "code",
   "execution_count": 574,
   "id": "ef087937",
   "metadata": {},
   "outputs": [
    {
     "data": {
      "image/png": "[encoded data removed]",
      "text/plain": [
       "<Figure size 640x480 with 4 Axes>"
      ]
     },
     "metadata": {},
     "output_type": "display_data"
    }
   ],
   "source": [
    "# PLot Results\n",
    "fig11, ax11, ax21, ax31, ax41 = fancy_plots_4()\n",
    "plot_states_quaternion(fig11, ax11, ax21, ax31, ax41, Q1_data[0:4, :], Q1d_data[0:4, :], t, \"Quaternions Results\")\n",
    "plt.show()\n"
   ]
  },
  {
   "cell_type": "code",
   "execution_count": 575,
   "id": "231ead3c",
   "metadata": {},
   "outputs": [
    {
     "data": {
      "image/png": "[encoded data removed]",
      "text/plain": [
       "<Figure size 640x480 with 3 Axes>"
      ]
     },
     "metadata": {},
     "output_type": "display_data"
    }
   ],
   "source": [
    "fig12, ax12, ax22, ax32 = fancy_plots_3()\n",
    "plot_states_position(fig12, ax12, ax22, ax32, Q1_data[5:8, :], Q1d_data[5:8, :], t, \"Position of the System\")\n",
    "plt.show()"
   ]
  },
  {
   "cell_type": "code",
   "execution_count": null,
   "id": "8e9b9ad9",
   "metadata": {},
   "outputs": [],
   "source": []
  }
 ],
 "metadata": {
  "kernelspec": {
   "display_name": "Python 3.8.18 ('dual_quat')",
   "language": "python",
   "name": "python3"
  },
  "language_info": {
   "codemirror_mode": {
    "name": "ipython",
    "version": 3
   },
   "file_extension": ".py",
   "mimetype": "text/x-python",
   "name": "python",
   "nbconvert_exporter": "python",
   "pygments_lexer": "ipython3",
   "version": "3.8.18"
  },
  "vscode": {
   "interpreter": {
    "hash": "55fd25a4db1577015ee8267fb6134e577a469327f1df3f42c7ba64281f9f75b9"
   }
  }
 },
 "nbformat": 4,
 "nbformat_minor": 5
}
