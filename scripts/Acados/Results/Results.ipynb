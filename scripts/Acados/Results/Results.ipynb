{
 "cells": [
  {
   "cell_type": "markdown",
   "id": "cc4ab141-af25-4e72-8ce6-47b179801323",
   "metadata": {},
   "source": []
  },
  {
   "cell_type": "code",
   "execution_count": 1,
   "id": "124f82e9",
   "metadata": {},
   "outputs": [],
   "source": [
    "from IPython.display import HTML\n",
    "from IPython.display import display, Image"
   ]
  },
  {
   "cell_type": "markdown",
   "id": "cbd328c8",
   "metadata": {},
   "source": [
    "<h3 style=\"font-size: 30px; color: #C1772D; font-weight: bold; text-align: left;\">Dual-quaternion MPC</h3>\n"
   ]
  },
  {
   "cell_type": "markdown",
   "id": "8a22d8bb-f861-4547-b78d-8b5f0efe92c4",
   "metadata": {},
   "source": [
    "<h3 align=\"left\" style=\"font-size: 20px; color: #667388;\"><strong>Rigid body transformations using unit Dual-quaternions</strong></h3>\n"
   ]
  },
  {
   "cell_type": "markdown",
   "id": "369161ed-55c9-4a9f-9192-7dc829f7d732",
   "metadata": {},
   "source": [
    "<span style=\"font-size:1.4em;\">\n",
    "\\begin{equation}\n",
    "   \\hat{\\mathbf{q}} = \\mathbf{q} + \\frac{1}{2} \\epsilon  (\\mathbf{q} \\circ  \\mathbf{t}^{i})  \n",
    "\\end{equation}\n",
    "</span>"
   ]
  },
  {
   "cell_type": "markdown",
   "id": "957a4ca2-f34e-4626-a747-1b50aebf7878",
   "metadata": {},
   "source": [
    "<h3 align=\"left\" style=\"font-size: 20px; color: #667388;\"><strong>Differential kinematics of a rigid body expressed as unit Dual-quaternions</strong></h3>\n"
   ]
  },
  {
   "cell_type": "markdown",
   "id": "172e517a-5d5c-4263-ad0b-6a9aed435a6c",
   "metadata": {},
   "source": [
    "<span style=\"font-size:1.4em;\">\n",
    "\\begin{equation}\n",
    "   \\dot{\\hat{\\mathbf{q}}} = \\frac{1}{2} \\hat{\\mathbf{q}}  \\circ \\hat{\\mathbf{\\omega}};~~~ \\hat{\\mathbf{\\omega}} = \\mathbf{\\omega}^{b} + \\epsilon (\\dot{\\mathbf{t}}^{i} + \\mathbf{\\omega}^{b}\\times \\mathbf{t}^{i})\n",
    "\\end{equation}\n",
    "</span>\n"
   ]
  },
  {
   "cell_type": "markdown",
   "id": "0b31d522-8fc1-43ef-b986-57bfc5c56e8b",
   "metadata": {},
   "source": [
    "<div class=\"alert alert-block alert-warning\" style=\"font-size: 16px;\">\n",
    "  <b>Note:</b> $\\hat{\\mathbf{\\omega}}$ is the twist in the body frame \n",
    "</div>"
   ]
  },
  {
   "cell_type": "markdown",
   "id": "90de977a-7b9b-4da9-97c1-4ab4979840fc",
   "metadata": {},
   "source": [
    "<h3 align=\"left\" style=\"font-size: 20px; color: #667388;\"><strong>Quadrotor dynamics</strong></h3>\n"
   ]
  },
  {
   "cell_type": "markdown",
   "id": "ea751404-cad8-467d-ac95-bc853b117c4b",
   "metadata": {},
   "source": [
    "<span style=\"font-size:1.4em;\">\n",
    "\\begin{equation}\n",
    "   \\ddot{\\mathbf{t}}^{i} = \\frac{F}{m} (\\mathbf{q} \\circ \\mathbf{e}_3 \\circ\\mathbf{q}^*) - g ~ \\mathbf{e}_3\n",
    "\\end{equation}\n",
    "</span>\n"
   ]
  },
  {
   "cell_type": "markdown",
   "id": "b19a9db4-0717-43e8-9c9a-6f82ecf741aa",
   "metadata": {},
   "source": [
    "<span style=\"font-size:1.4em;\">\n",
    "\\begin{equation}\n",
    "  \\dot{\\mathbf{\\omega}}^{b} =  \\mathbf{J}^{-1} ( \\mathbf{\\tau} - \\mathbf{\\omega}^b \\times \\mathbf{J} \\mathbf{\\omega}^b )\n",
    "\\end{equation}\n",
    "</span>\n"
   ]
  },
  {
   "cell_type": "markdown",
   "id": "6f00bb8f-74a4-459f-b731-4fe2e1bab5aa",
   "metadata": {},
   "source": [
    "<div class=\"alert alert-block alert-warning\" style=\"font-size: 16px;\">\n",
    "  <b>Note:</b> The inertial matrix can be defined as $\\mathbf{J} = \\textrm{diag}(J_{xx},~J_{yy},~J_{zz})$, $\\mathbf{e}_3 = \\begin{bmatrix} 0 & 0 & 1 \\end{bmatrix}^T$ is an auxiliary vector; \\(g\\) is the gravity; \\(m\\) is the mass, and \\(F\\) and \\(\\tau\\) are the force and torques attached to the body frame, respectively.\n",
    "</div>"
   ]
  },
  {
   "cell_type": "markdown",
   "id": "4f122092-a8ad-4be8-8613-a8a432977076",
   "metadata": {},
   "source": [
    "<div style=\"text-align: justify; font-size: 20px;\">Differentiating the twist in the body frame.</div>\n"
   ]
  },
  {
   "cell_type": "markdown",
   "id": "f400483c-cb14-48ce-a620-250c9552f3af",
   "metadata": {},
   "source": [
    "<span style=\"font-size:1.4em;\">\n",
    "\\begin{equation}\n",
    "  \\dot{\\hat{\\mathbf{\\omega}}} =  \\dot{\\mathbf{\\omega}}^{b} + \\epsilon(\\ddot{t}^{i} + \\dot{\\omega}^{b}\\times \\mathbf{t}^{i} + \\omega^{b} \\times \\dot{\\mathbf{t}}^{i})\n",
    "\\end{equation}\n",
    "</span>\n"
   ]
  },
  {
   "cell_type": "markdown",
   "id": "bdfb5046-57b9-409b-950f-d63357fbd569",
   "metadata": {},
   "source": [
    "<div style=\"text-align: justify; font-size: 20px;\"> Combining the formulation presented before with the quadrotor dynamics, we have the following:</div>\n"
   ]
  },
  {
   "cell_type": "markdown",
   "id": "6673e7d5-a81a-4071-b943-a965b9ee4d32",
   "metadata": {},
   "source": [
    "<span style=\"font-size:1.4em;\">\n",
    "\\begin{equation}\n",
    "  \\dot{\\hat{\\mathbf{\\omega}}} =  \\hat{\\mathbf{f}} + \\hat{\\mathbf{u}}\n",
    "\\end{equation}\n",
    "</span>"
   ]
  },
  {
   "cell_type": "markdown",
   "id": "ba8194bb-a4d5-456e-8ed2-99006adc7a80",
   "metadata": {},
   "source": [
    "<span style=\"font-size:1.4em;\">\n",
    "\\begin{equation}\n",
    "\\hat{\\mathbf{f}} = \\mathbf{a} + \\epsilon(\\mathbf{a} \\times \\mathbf{t}^{i} + \\mathbf{\\omega}^{b} \\times \\dot{\\mathbf{t}}^{i} - g \\mathbf{e}_3)\n",
    "\\end{equation}\n",
    "</span>"
   ]
  },
  {
   "cell_type": "markdown",
   "id": "04d1df19-a2e3-4e08-9af0-9b46b5e80e35",
   "metadata": {},
   "source": [
    "<span style=\"font-size:1.4em;\">\n",
    "\\begin{equation}\n",
    "\\hat{\\mathbf{u}} =  \\mathbf{J}^{-1} \\tau + \\epsilon (\\frac{F}{m}(\\mathbf{q} \\circ \\mathbf{e}_3 \\circ \\mathbf{q}^*) + \\mathbf{J}^{-1} \\tau \\times \\mathbf{t}^i)\n",
    "\\end{equation}\n",
    "</span>"
   ]
  },
  {
   "cell_type": "markdown",
   "id": "8001bc24-a8cc-46cb-aa92-8c879d7e4054",
   "metadata": {},
   "source": [
    "<span style=\"font-size:1.4em;\">\n",
    "\\begin{equation}\n",
    "\\mathbf{a} = -\\mathbf{J}^{-1} \\mathbf{\\omega}^b \\times \\mathbf{J} \\mathbf{\\omega}^b\n",
    "\\end{equation}\n",
    "</span>"
   ]
  },
  {
   "cell_type": "markdown",
   "id": "3eb0aa0d-8c3a-44a9-9f0f-0003712ded77",
   "metadata": {},
   "source": [
    "<div class=\"alert alert-block alert-warning\" style=\"font-size: 16px;\">\n",
    "  <b>Note:</b> $\\hat{\\mathbf{f}}$ is defined by the quadrotor states and $\\hat{\\mathbf{u}}$ includes the force and torques \n",
    "</div>"
   ]
  },
  {
   "cell_type": "markdown",
   "id": "1da8319f-1d67-41de-9029-622cf74ac02f",
   "metadata": {},
   "source": [
    "<div style=\"text-align: justify; font-size: 20px;\">Therefore, the quadrotor system dynamics can be compactly written using Dual-quaternions as follows:</div>\n"
   ]
  },
  {
   "cell_type": "markdown",
   "id": "0b60deab-5d61-462d-83b8-b3e73ca035de",
   "metadata": {},
   "source": [
    "<span style=\"font-size:1.4em;\">\n",
    "\\begin{equation}\n",
    "   \\dot{\\mathbf{x}} = f(\\mathbf{x}, \\mathbf{u})\n",
    "    \\end{equation}\n",
    "</span>"
   ]
  },
  {
   "cell_type": "markdown",
   "id": "8c696eb5-ca67-4793-912a-e6bfb8ec155c",
   "metadata": {},
   "source": [
    "<span style=\"font-size:1.4em;\">\n",
    "\\begin{equation}\n",
    "f(\\mathbf{x}, \\mathbf{u}):= \\begin{bmatrix} \\frac{1}{2} \\hat{\\mathbf{q}}  \\circ \\hat{\\mathbf{\\omega}} \\\\ \\hat{\\mathbf{f}} + \\hat{\\mathbf{u}}\n",
    "\\end{bmatrix}\n",
    "    \\end{equation}\n",
    "</span>"
   ]
  },
  {
   "cell_type": "markdown",
   "id": "194c71da-4f60-435b-af9f-e8b8586ce4d2",
   "metadata": {},
   "source": [
    "<div style=\"text-align: justify; font-size: 20px;\"> $\\mathbf{x} = \\begin{bmatrix} \\hat{\\mathbf{q}} & \\hat{\\mathbf{\\omega}} \\end{bmatrix}^T \\in\\hat{\\mathcal{H}} \\times \\hat{\\mathcal{H}}_p$ is the generalized vector of the internal states of the system  and $\\mathbf{u} = \\begin{bmatrix} F & {\\tau} \\end{bmatrix}^T \\in \\mathbb{R}^{4}$ is the vector of the control actions considering the force and torques attached to the quadrotor body.</div>\n"
   ]
  },
  {
   "cell_type": "markdown",
   "id": "c6842d02-e9ec-43ab-9139-c15870540183",
   "metadata": {},
   "source": [
    "<div style=\"text-align: justify; font-size: 20px;\">  We use the discrete-time version of the formulatation presented using the fourth-order Runge-Kutta integrator, defined as follows:</div>\n"
   ]
  },
  {
   "cell_type": "markdown",
   "id": "29a847ca-8abe-4e78-a4ea-6c907e02bed3",
   "metadata": {},
   "source": [
    "<span style=\"font-size:1.4em;\">\n",
    "\\begin{equation}\n",
    "   {\\mathbf{x}}_{k+1} = \\mathbf{f}_{k}(\\mathbf{x}_{k},\\mathbf{u}_{k})\n",
    "\\end{equation}\n",
    "</span>"
   ]
  },
  {
   "cell_type": "markdown",
   "id": "22d9092e-c966-4f10-b952-28d71ef41a4e",
   "metadata": {},
   "source": [
    "<div style=\"text-align: justify; font-size: 20px;\"> Let's define some useful operators:</div>"
   ]
  },
  {
   "cell_type": "markdown",
   "id": "88f345d3-45aa-4887-9030-df2035a63280",
   "metadata": {},
   "source": [
    "<div class=\"alert alert-block alert-warning\" style=\"font-size: 16px;\">\n",
    "  <b>Note:</b> \\( \\textrm{trans}(\\cdot): \\hat{\\mathcal{H}} \\times \\hat{\\mathcal{H}}_p \\rightarrow \\mathbb{R}^{3} \\) is an operator that extracts the translation vector $\\mathbf{t}^i$ from the generalized vector.\n",
    "</div>"
   ]
  },
  {
   "cell_type": "markdown",
   "id": "13fd82c4-b382-405e-8f55-d4dec6d1ed54",
   "metadata": {},
   "source": [
    "<div class=\"alert alert-block alert-warning\" style=\"font-size: 16px;\">\n",
    "  <b>Note:</b> \\( \\textrm{quat}(\\cdot): \\hat{\\mathcal{H}} \\times \\hat{\\mathcal{H}} \\rightarrow \\mathbb{R}^{4} \\in \\mathcal{H} \\) is an operator that extracts the quaternion $\\mathbf{q} $ from from the generalized vector.\n",
    "</div>"
   ]
  },
  {
   "cell_type": "markdown",
   "id": "8a1ae851-8580-4876-8e66-c2fd14ab129f",
   "metadata": {},
   "source": [
    "<div class=\"alert alert-block alert-warning\" style=\"font-size: 16px;\">\n",
    "  <b>Note:</b> \\( \\textrm{dual}(\\cdot): \\hat{\\mathcal{H}} \\times \\hat{\\mathcal{H}}_p \\rightarrow \\mathbb{R}^{4}\\) is an operator that extracts the dual part  from from the generalized vector.\n",
    "</div>"
   ]
  },
  {
   "cell_type": "markdown",
   "id": "4182acaa-4189-4f9b-b762-cd3efa9e6871",
   "metadata": {},
   "source": [
    "<div class=\"alert alert-block alert-warning\" style=\"font-size: 16px;\">\n",
    "  <b>Note:</b> \\( \\textrm{velocity}(\\cdot): \\hat{\\mathcal{H}_p} \\rightarrow \\mathbb{R}^{3} \\) is an operator that extracts linear velocity $\\dot{\\mathbf{t}}^i$ from the dual twist.\n",
    "</div>"
   ]
  },
  {
   "cell_type": "markdown",
   "id": "ed642fe3-c457-4107-a7ec-73c3ba8dec26",
   "metadata": {},
   "source": [
    "<div class=\"alert alert-block alert-warning\" style=\"font-size: 16px;\">\n",
    "  <b>Note:</b> $ \\hat{\\mathbf{q}}_1 \\boxminus \\hat{\\mathbf{q}}_2: = \\textrm{Log} ( \\hat{\\mathbf{q}}^*_1 \\circ \\hat{\\mathbf{q}}_2)$ is a minus operator on the Lie Algebra of Unit dualquaternions\n",
    "</div>"
   ]
  },
  {
   "cell_type": "markdown",
   "id": "2eddcab4-16af-418d-8012-f0befe534511",
   "metadata": {},
   "source": [
    "<div class=\"alert alert-block alert-warning\" style=\"font-size: 16px;\">\n",
    "  <b>Note:</b> $ \\textrm{Log} (\\hat{\\mathbf{q}}) = \\frac{1}{2} \\phi \\mathbf{n} + \\epsilon \\frac{1}{2} \\mathbf{t}^{i}$\n",
    "</div>"
   ]
  },
  {
   "cell_type": "markdown",
   "id": "80a8365d-6508-467c-b8fc-c471e917af28",
   "metadata": {},
   "source": [
    "<div class=\"alert alert-block alert-warning\" style=\"font-size: 16px;\">\n",
    "  <b>Note:</b> $ {\\mathbf{q}}_1 \\boxminus {\\mathbf{q}}_2: = \\textrm{log} ( {\\mathbf{q}}^*_1 \\circ {\\mathbf{q}}_2)$ is a minus operator on the Lie Algebra of unit quaternions\n",
    "</div>"
   ]
  },
  {
   "cell_type": "markdown",
   "id": "0b90d15b-2601-4be6-bbc5-7e74c13b09bb",
   "metadata": {},
   "source": [
    "<div class=\"alert alert-block alert-warning\" style=\"font-size: 16px;\">\n",
    "  <b>Note:</b> $ \\textrm{log} ({\\mathbf{q}}) = \\frac{1}{2} \\phi \\mathbf{n}$\n",
    "</div>"
   ]
  },
  {
   "cell_type": "markdown",
   "id": "bd31a1d5-7cb6-403b-88ef-bea016e369ae",
   "metadata": {},
   "source": [
    "<h3 align=\"left\" style=\"font-size: 20px; color: #667388;\"><strong>Separed cost functions</strong></h3>\n"
   ]
  },
  {
   "cell_type": "markdown",
   "id": "0f417aa2-b8ea-43f9-8c77-6347da9804ae",
   "metadata": {},
   "source": [
    "<div style=\"text-align: justify; font-size: 20px;\"> The finite-time optimal control problem requires cost functions that are minimized over the horizon $N$. Therefore, the cost function related to trajectory tracking can be formulated as follows:</div>"
   ]
  },
  {
   "cell_type": "markdown",
   "id": "401ddd40-49d2-40fc-afe1-131a2ecd37da",
   "metadata": {},
   "source": [
    "<span style=\"font-size:1.4em;\">\n",
    "\\begin{equation}\n",
    " l_t(\\mathbf{x}_k, ~\\mathbf{t}^{i}_{d, k}) = \\Vert  ~\\mathbf{t}^{i}_{d, k}- \\textrm{trans}(\\mathbf{x}_k)\\Vert^{2}_{\\mathbf{Q}_t}\n",
    "    \\end{equation}\n",
    "</span>"
   ]
  },
  {
   "cell_type": "markdown",
   "id": "fe2a1fa2-f0a5-4572-ade6-3777733e397e",
   "metadata": {},
   "source": [
    "<div style=\"text-align: justify; font-size: 20px;\"> where $\\mathbf{t}^{i}_d= \\begin{bmatrix} x_d & y_d & z_d \\end{bmatrix}^T \\in \\mathbb{R}^{3}$ represents the desired trajectory, and $\\mathbf{Q}_t$ is a positive definite matrix.</div>"
   ]
  },
  {
   "cell_type": "markdown",
   "id": "927c288d-9f65-404f-9d0f-20141a5233ab",
   "metadata": {},
   "source": [
    "<div style=\"text-align: justify; font-size: 20px;\">On the other hand, the cost function related to the desired attitude or orientation can be formulated by considering the error between the reference quaternion $\\mathbf{q}_d$. This error can be expressed as:</div>\n"
   ]
  },
  {
   "cell_type": "markdown",
   "id": "45a8ea79-4b8f-4bb4-b6b1-5bc22977549f",
   "metadata": {},
   "source": [
    "<span style=\"font-size:1.4em;\">\n",
    "\\begin{equation}\n",
    "l_a(\\mathbf{x}_k, ~\\mathbf{q}_{d, k}) = \\Vert  {\\mathbf{q}_{d, k}} \\boxminus \\textrm{quat}(\\mathbf{x}_k) \\Vert^{2}_{\\mathbf{Q}_a}\n",
    "    \\end{equation}\n",
    "</span>"
   ]
  },
  {
   "cell_type": "markdown",
   "id": "5ddaaf15-0dae-4252-9877-d94bc69b7779",
   "metadata": {},
   "source": [
    "<div style=\"text-align: justify; font-size: 20px;\"> where $\\mathbf{Q}_a$ is a positive definite matrix.</div>"
   ]
  },
  {
   "cell_type": "markdown",
   "id": "230949f8-c957-41aa-a2c2-7639a399fd41",
   "metadata": {},
   "source": [
    "<div style=\"text-align: justify; font-size: 20px;\">Furthermore, to ensure smooth control actions, the cost function associated with the control policy, denoted as $l_u(\\cdot): \\mathbb{R}^{4} \\rightarrow \\mathbb{R}_{\\geq 0}$, can be structured as follows:</div>\n"
   ]
  },
  {
   "cell_type": "markdown",
   "id": "d9bfbfdf-c53f-442d-a62a-2fd43bf39a79",
   "metadata": {},
   "source": [
    "<span style=\"font-size:1.4em;\">\n",
    "\\begin{equation}\n",
    "   l_{u}(\\mathbf{u}_{k}) = \\Vert  \\mathbf{u}_{k}\\Vert^{2}_{\\mathbf{R}}\n",
    "\\end{equation}\n",
    "</span>"
   ]
  },
  {
   "cell_type": "markdown",
   "id": "6d4b1c5f-1147-42b8-9a41-d0512da79ece",
   "metadata": {},
   "source": [
    "<div style=\"text-align: justify; font-size: 20px;\">In addition to the equations of motion for the aerial system, constraints on control actions can be formulated to ensure both maximum and minimum forces and torques.</div>\n"
   ]
  },
  {
   "cell_type": "markdown",
   "id": "08d8b3f8-53cc-4d13-880e-1b162d03507f",
   "metadata": {},
   "source": [
    "<span style=\"font-size:1.4em;\">\n",
    "\\begin{equation}\n",
    " \\mathbf{u}_{min} \\leq \\mathbf{u}_k \\leq \\mathbf{u}_{max}\\\\\n",
    "\\end{equation}\n",
    "</span>"
   ]
  },
  {
   "cell_type": "markdown",
   "id": "d4faf8a6-da7a-4b6b-8972-3e751ff02d48",
   "metadata": {},
   "source": [
    "<div style=\"text-align: justify; font-size: 20px;\">where $(\\mathbf{u}_{min},\\mathbf{u}_{max})$ represents the minimum and maximum control actions of the aerial system.</div>\n"
   ]
  },
  {
   "cell_type": "markdown",
   "id": "2e513b3a-3461-406f-8248-ab95cbfb7ad0",
   "metadata": {},
   "source": [
    "<div style=\"text-align: justify; font-size: 20px;\">Finally, to prevent possible issues related to numerical stability, we introduced the following non-linear constraint, $h(\\cdot)$, ensuring the norm of the real part and dual part of  Unit Dual-quaternions. This restriction can be formulated as follows:</div>\n"
   ]
  },
  {
   "cell_type": "markdown",
   "id": "27d90c94-3138-4a34-905c-3d5dd4d3e8aa",
   "metadata": {},
   "source": [
    "<span style=\"font-size:1.4em;\">\n",
    "\\begin{equation}\n",
    " {h}_{\\text{min}} \\leq h(\\mathbf{x}) \\leq {h}_{\\text{max}}\n",
    "\\end{equation}\n",
    "</span>"
   ]
  },
  {
   "cell_type": "markdown",
   "id": "81d7dfb3-04b6-45f2-8f50-4a91afd767dd",
   "metadata": {},
   "source": [
    "<div style=\"text-align: justify; font-size: 20px;\">Taking into account the cost functions presented previously, it is possible to generate the NMPC as a finite-time horizon optimization problem as follows:</div>\n"
   ]
  },
  {
   "cell_type": "markdown",
   "id": "da5a59ed-df6a-450e-bf68-877741cd319e",
   "metadata": {},
   "source": [
    "<span style=\"font-size:1.4em;\">\n",
    "\\begin{equation}\n",
    "\\begin{split}\n",
    "     \\min_{\\mathbf{x}_1 ... \\mathbf{x}_N, \\mathbf{u}_1 ... \\mathbf{u}_{N-1}}  \\quad  \\Vert  ~\\mathbf{t}^{i}_{d, N}-\\textrm{trans}(\\mathbf{x}_N) \\Vert^{2}_{\\mathbf{Q}_{Nt}} +  \\Vert  {\\mathbf{q}_{d, N}} \\boxminus \\textrm{quat}(\\mathbf{x}_N) \\Vert^{2}_{\\mathbf{Q}_{Na}}\n",
    " + \\sum_{k=1}^{N-1} l_t(\\mathbf{x}_k, ~\\mathbf{t}^{i}_{d, k}) + l_a(\\mathbf{x}_k, ~\\mathbf{q}_{d, k}) +  l_{u}(\\mathbf{u}_{k}) \\\\  \n",
    "    \\textrm{subject to: }  {\\mathbf{x}}_{k+1} = \\mathbf{f}(\\mathbf{x}_{k},\\mathbf{u}_{k}), k = 1,....., N-1 ~~~~~~~~~~~~~~~~~~~~~~~~~~~~~\\\\\n",
    "    \\mathbf{u}_{min} \\leq \\mathbf{u}_k \\leq \\mathbf{u}_{max},  k = 1,..., N-1 ~~~~~~~~~~~~~~~~~~~~~~~~~~~~~~~~~\\\\\n",
    "    \\mathbf{h}_{min} \\leq h( \\mathbf{x}_k) \\leq \\mathbf{h}_{max},  k = 1,..., N ~~~~~~~~~~~~~~~~~~~~~~~~~~~~~~~~~~\n",
    "\\end{split}\n",
    "\\end{equation}\n",
    "</span>"
   ]
  },
  {
   "cell_type": "markdown",
   "id": "ea6fe71a-bec1-4c85-bc94-dc1827a56d00",
   "metadata": {},
   "source": [
    "<div style=\"text-align: justify; font-size: 20px;\">The results of the presented formulation are shown below:</div>\n"
   ]
  },
  {
   "cell_type": "markdown",
   "id": "d4fd2de7-23ea-4738-83d0-8c28ea0b1faa",
   "metadata": {},
   "source": []
  },
  {
   "cell_type": "code",
   "execution_count": 2,
   "id": "17b51586",
   "metadata": {},
   "outputs": [
    {
     "data": {
      "text/html": [
       "<div style=\"text-align:center;\"><img src=\"Position_Results_Based_on_Separed_Cost_Function.png\" width=\"600\"></div>"
      ],
      "text/plain": [
       "<IPython.core.display.HTML object>"
      ]
     },
     "metadata": {},
     "output_type": "display_data"
    }
   ],
   "source": [
    "image_path = 'Position_Results_Based_on_Separed_Cost_Function.png'\n",
    "image_width = 600\n",
    "html_code = f'<div style=\"text-align:center;\"><img src=\"{image_path}\" width=\"{image_width}\"></div>'\n",
    "display(HTML(html_code))"
   ]
  },
  {
   "cell_type": "code",
   "execution_count": 3,
   "id": "7068004a",
   "metadata": {},
   "outputs": [
    {
     "data": {
      "text/html": [
       "<div style=\"text-align:center;\"><img src=\"Quaternion Results Based on Separated Cost.png\" width=\"600\"></div>"
      ],
      "text/plain": [
       "<IPython.core.display.HTML object>"
      ]
     },
     "metadata": {},
     "output_type": "display_data"
    }
   ],
   "source": [
    "image_path = 'Quaternion Results Based on Separated Cost.png'\n",
    "image_width = 600\n",
    "html_code = f'<div style=\"text-align:center;\"><img src=\"{image_path}\" width=\"{image_width}\"></div>'\n",
    "display(HTML(html_code))"
   ]
  },
  {
   "cell_type": "code",
   "execution_count": 4,
   "id": "b4515b3b",
   "metadata": {},
   "outputs": [
    {
     "data": {
      "text/html": [
       "<div style=\"text-align:center;\"><img src=\"Control Actions of the System Based on Separed Cost Function.png\" width=\"600\"></div>"
      ],
      "text/plain": [
       "<IPython.core.display.HTML object>"
      ]
     },
     "metadata": {},
     "output_type": "display_data"
    }
   ],
   "source": [
    "image_path = 'Control Actions of the System Based on Separed Cost Function.png'\n",
    "image_width = 600\n",
    "html_code = f'<div style=\"text-align:center;\"><img src=\"{image_path}\" width=\"{image_width}\"></div>'\n",
    "display(HTML(html_code))"
   ]
  },
  {
   "cell_type": "markdown",
   "id": "0fcd6448",
   "metadata": {},
   "source": [
    "<h3 align=\"left\" style=\"font-size: 20px; color: #667388;\"><strong>Manifold Cost function</strong></h3>\n"
   ]
  },
  {
   "cell_type": "markdown",
   "id": "7f2f397b",
   "metadata": {},
   "source": [
    "<div style=\"text-align: justify; font-size: 20px;\"> The cost function on the Dualquaternion manifold can be formulated as follows:</div>"
   ]
  },
  {
   "cell_type": "markdown",
   "id": "035a0b50",
   "metadata": {},
   "source": [
    "<span style=\"font-size:1.4em;\">\n",
    "\\begin{equation}\n",
    " l_t(\\mathbf{x}_k, ~\\mathbf{x}_{d, k}) = \\Vert  \\hat{\\mathbf{1}} - (\\mathbf{C}_t \\mathbf{x}_{d, k})^{*} \\circ (\\mathbf{C}_t\\mathbf{x}_k) \\Vert^{2}_{\\mathbf{Q}_t}\n",
    "    \\end{equation}\n",
    "</span>"
   ]
  },
  {
   "cell_type": "markdown",
   "id": "9fdd2a15",
   "metadata": {},
   "source": [
    "<div style=\"text-align: justify; font-size: 20px;\"> where $\\mathbf{x}_d$ represents the desired generalized state; $\\mathbf{Q}_t$ is a positive definite matrix and $\\mathbf{C}_t$ is a matrix that gets the dual-quaternion form the generalized vector $\\mathbf{x}$</div>"
   ]
  },
  {
   "cell_type": "markdown",
   "id": "1e0dee0c",
   "metadata": {},
   "source": [
    "<div style=\"text-align: justify; font-size: 20px;\">Taking into account the cost function presented previously, it is possible to generate the NMPC as a finite-time horizon optimization problem as follows:</div>"
   ]
  },
  {
   "cell_type": "markdown",
   "id": "c6decc6e",
   "metadata": {},
   "source": [
    "<span style=\"font-size:1.4em;\">\n",
    "\\begin{equation}\n",
    "\\begin{split}\n",
    "     \\min_{\\mathbf{x}_1 ... \\mathbf{x}_N, \\mathbf{u}_1 ... \\mathbf{u}_{N-1}}  \\quad  \\Vert  \\hat{\\mathbf{1}} - (\\mathbf{C}_t \\mathbf{x}_{d, N})^* \\circ (\\mathbf{C}_t \\mathbf{x}_{N}) \\Vert^{2}_{\\mathbf{Q}_{Nt}} \n",
    " + \\sum_{k=1}^{N-1} \\Vert  \\hat{\\mathbf{1}} - (\\mathbf{C}_t \\mathbf{x}_{d, k})^{*} \\circ (\\mathbf{C}_t\\mathbf{x}_k) \\Vert^{2}_{\\mathbf{Q}_t} +   l_{u}(\\mathbf{u}_{k}) \\\\  \n",
    "    \\textrm{subject to: }  {\\mathbf{x}}_{k+1} = \\mathbf{f}(\\mathbf{x}_{k},\\mathbf{u}_{k}), k = 1,....., N-1 ~~~~~~~~~~~~~~~~~~~~~~~~~~~~~\\\\\n",
    "    \\mathbf{u}_{min} \\leq \\mathbf{u}_k \\leq \\mathbf{u}_{max},  k = 1,..., N-1 ~~~~~~~~~~~~~~~~~~~~~~~~~~~~~~~~~\\\\\n",
    "    \\mathbf{h}_{min} \\leq h( \\mathbf{x}_k) \\leq \\mathbf{h}_{max},  k = 1,..., N ~~~~~~~~~~~~~~~~~~~~~~~~~~~~~~~~~~\n",
    "\\end{split}\n",
    "\\end{equation}\n",
    "</span>"
   ]
  },
  {
   "cell_type": "markdown",
   "id": "feb0ec7d",
   "metadata": {},
   "source": [
    "<div style=\"text-align: justify; font-size: 20px;\">The results of the presented formulation are shown below:</div>"
   ]
  },
  {
   "cell_type": "code",
   "execution_count": 5,
   "id": "238b86d4",
   "metadata": {},
   "outputs": [
    {
     "data": {
      "text/html": [
       "<div style=\"text-align:center;\"><img src=\"Position Results Based On Manifold Cost.png\" width=\"600\"></div>"
      ],
      "text/plain": [
       "<IPython.core.display.HTML object>"
      ]
     },
     "metadata": {},
     "output_type": "display_data"
    }
   ],
   "source": [
    "image_path = 'Position Results Based On Manifold Cost.png'\n",
    "image_width = 600\n",
    "html_code = f'<div style=\"text-align:center;\"><img src=\"{image_path}\" width=\"{image_width}\"></div>'\n",
    "display(HTML(html_code))"
   ]
  },
  {
   "cell_type": "code",
   "execution_count": 6,
   "id": "1b0c8554",
   "metadata": {},
   "outputs": [
    {
     "data": {
      "text/html": [
       "<div style=\"text-align:center;\"><img src=\"Quaternion Results Based On Manifold Cost.png\" width=\"600\"></div>"
      ],
      "text/plain": [
       "<IPython.core.display.HTML object>"
      ]
     },
     "metadata": {},
     "output_type": "display_data"
    }
   ],
   "source": [
    "image_path = 'Quaternion Results Based On Manifold Cost.png'\n",
    "image_width = 600\n",
    "html_code = f'<div style=\"text-align:center;\"><img src=\"{image_path}\" width=\"{image_width}\"></div>'\n",
    "display(HTML(html_code))"
   ]
  },
  {
   "cell_type": "code",
   "execution_count": 7,
   "id": "0069f59a",
   "metadata": {},
   "outputs": [
    {
     "data": {
      "text/html": [
       "<div style=\"text-align:center;\"><img src=\"Control Actions of the System Based On Manifold Cost.png\" width=\"600\"></div>"
      ],
      "text/plain": [
       "<IPython.core.display.HTML object>"
      ]
     },
     "metadata": {},
     "output_type": "display_data"
    }
   ],
   "source": [
    "image_path = 'Control Actions of the System Based On Manifold Cost.png'\n",
    "image_width = 600\n",
    "html_code = f'<div style=\"text-align:center;\"><img src=\"{image_path}\" width=\"{image_width}\"></div>'\n",
    "display(HTML(html_code))"
   ]
  },
  {
   "cell_type": "markdown",
   "id": "21dccfc7",
   "metadata": {},
   "source": [
    "<h3 align=\"left\" style=\"font-size: 20px; color: #667388;\"><strong>Lie Algebra Cost function</strong></h3>"
   ]
  },
  {
   "cell_type": "markdown",
   "id": "008ee73a",
   "metadata": {},
   "source": [
    "<div style=\"text-align: justify; font-size: 20px;\"> The cost function on the Dualquaternion Lie Algebra can be formulated as follows:</div>"
   ]
  },
  {
   "cell_type": "markdown",
   "id": "09b0bf94",
   "metadata": {},
   "source": [
    "<span style=\"font-size:1.4em;\">\n",
    "\\begin{equation}\n",
    " l_t(\\mathbf{x}_k, ~\\mathbf{x}_{d, k}) = \\Vert  (\\mathbf{C}_t \\mathbf{x}_{d, k} \\boxminus \\mathbf{C}_t\\mathbf{x}_k) \\Vert^{2}_{\\mathbf{Q}_t}\n",
    "    \\end{equation}\n",
    "</span>"
   ]
  },
  {
   "cell_type": "markdown",
   "id": "449860ac",
   "metadata": {},
   "source": [
    "<div style=\"text-align: justify; font-size: 20px;\">Taking into account the cost function presented previously, it is possible to generate the NMPC as a finite-time horizon optimization problem as follows:</div>"
   ]
  },
  {
   "cell_type": "markdown",
   "id": "8a7a54c9",
   "metadata": {},
   "source": [
    "<span style=\"font-size:1.4em;\">\n",
    "\\begin{equation}\n",
    "\\begin{split}\n",
    "     \\min_{\\mathbf{x}_1 ... \\mathbf{x}_N, \\mathbf{u}_1 ... \\mathbf{u}_{N-1}}  \\quad  \\Vert (\\mathbf{C}_t \\mathbf{x}_{d, N}) \\boxminus (\\mathbf{C}_t \\mathbf{x}_{N}) \\Vert^{2}_{\\mathbf{Q}_{Nt}}\n",
    " + \\sum_{k=1}^{N-1} \\Vert  (\\mathbf{C}_t \\mathbf{x}_{d, k} \\boxminus (\\mathbf{C}_t\\mathbf{x}_k) \\Vert^{2}_{\\mathbf{Q}_t} +   l_{u}(\\mathbf{u}_{k}) \\\\  \n",
    "    \\textrm{subject to: }  {\\mathbf{x}}_{k+1} = \\mathbf{x}_{k} \\boxplus ts \\mathbf{f}(\\mathbf{x}_{k},\\mathbf{u}_{k}), k = 1,....., N-1 ~~~~~~~~~~~~~~~~~~~~~~~~~~~~~\\\\\n",
    "    \\mathbf{u}_{min} \\leq \\mathbf{u}_k \\leq \\mathbf{u}_{max},  k = 1,..., N-1 ~~~~~~~~~~~~~~~~~~~~~~~~~~~~~~~~~\\\\\n",
    "    \\mathbf{h}_{min} \\leq h( \\mathbf{x}_k) \\leq \\mathbf{h}_{max},  k = 1,..., N ~~~~~~~~~~~~~~~~~~~~~~~~~~~~~~~~~~\n",
    "\\end{split}\n",
    "\\end{equation}\n",
    "</span>"
   ]
  },
  {
   "cell_type": "markdown",
   "id": "b5636dfb",
   "metadata": {},
   "source": [
    "<div style=\"text-align: justify; font-size: 20px;\">The results of the presented formulation are shown below:</div>"
   ]
  },
  {
   "cell_type": "code",
   "execution_count": 8,
   "id": "c41bded7",
   "metadata": {},
   "outputs": [
    {
     "data": {
      "text/html": [
       "<div style=\"text-align:center;\"><img src=\"Position Results Based On LieAlgebra Cost.png\" width=\"600\"></div>"
      ],
      "text/plain": [
       "<IPython.core.display.HTML object>"
      ]
     },
     "metadata": {},
     "output_type": "display_data"
    }
   ],
   "source": [
    "image_path = 'Position Results Based On LieAlgebra Cost.png'\n",
    "image_width = 600\n",
    "html_code = f'<div style=\"text-align:center;\"><img src=\"{image_path}\" width=\"{image_width}\"></div>'\n",
    "display(HTML(html_code))"
   ]
  },
  {
   "cell_type": "code",
   "execution_count": 9,
   "id": "b418990e",
   "metadata": {},
   "outputs": [
    {
     "data": {
      "text/html": [
       "<div style=\"text-align:center;\"><img src=\"Quaternion Results Based On LieAlgebra Cost.png\" width=\"600\"></div>"
      ],
      "text/plain": [
       "<IPython.core.display.HTML object>"
      ]
     },
     "metadata": {},
     "output_type": "display_data"
    }
   ],
   "source": [
    "image_path = 'Quaternion Results Based On LieAlgebra Cost.png'\n",
    "image_width = 600\n",
    "html_code = f'<div style=\"text-align:center;\"><img src=\"{image_path}\" width=\"{image_width}\"></div>'\n",
    "display(HTML(html_code))"
   ]
  },
  {
   "cell_type": "code",
   "execution_count": 10,
   "id": "03ce17c8",
   "metadata": {},
   "outputs": [
    {
     "data": {
      "text/html": [
       "<div style=\"text-align:center;\"><img src=\"Control Actions of the System Based On LieAlgebra Cost.png\" width=\"600\"></div>"
      ],
      "text/plain": [
       "<IPython.core.display.HTML object>"
      ]
     },
     "metadata": {},
     "output_type": "display_data"
    }
   ],
   "source": [
    "image_path = 'Control Actions of the System Based On LieAlgebra Cost.png'\n",
    "image_width = 600\n",
    "html_code = f'<div style=\"text-align:center;\"><img src=\"{image_path}\" width=\"{image_width}\"></div>'\n",
    "display(HTML(html_code))"
   ]
  },
  {
   "cell_type": "markdown",
   "id": "81283ed9",
   "metadata": {},
   "source": [
    "<h3 style=\"font-size: 30px; color: #C1772D; font-weight: bold; text-align: left;\">Aditional results where the desired pose was extrated from Unit dual quaternion-based feedback linearization paper </h3>\n"
   ]
  },
  {
   "cell_type": "markdown",
   "id": "232176c1",
   "metadata": {},
   "source": [
    "<h3 style=\"font-size: 30px; color: #C1772D; font-weight: bold; text-align: left;\">Translation results</h3>"
   ]
  },
  {
   "cell_type": "code",
   "execution_count": 11,
   "id": "1fec047e",
   "metadata": {},
   "outputs": [
    {
     "data": {
      "text/html": [
       "\n",
       "<div style=\"text-align:center;\">\n",
       "    <img src=\"Experiment_1/Position Results Based on Separed Cost Function.png\" width=\"600\" style=\"margin-right: 20px;\">\n",
       "    <img src=\"Experiment_1/Position Results Based On LieAlgebra Cost.png\" width=\"600\">\n",
       "</div>"
      ],
      "text/plain": [
       "<IPython.core.display.HTML object>"
      ]
     },
     "metadata": {},
     "output_type": "display_data"
    }
   ],
   "source": [
    "# Paths and widths for the two images\n",
    "image_path1 = 'Experiment_1/Position Results Based on Separed Cost Function.png'\n",
    "image_path2 = 'Experiment_1/Position Results Based On LieAlgebra Cost.png'\n",
    "image_width1 = 600\n",
    "image_width2 = 600\n",
    "\n",
    "# HTML code to display both images, centered\n",
    "html_code = f'''\n",
    "<div style=\"text-align:center;\">\n",
    "    <img src=\"{image_path1}\" width=\"{image_width1}\" style=\"margin-right: 20px;\">\n",
    "    <img src=\"{image_path2}\" width=\"{image_width2}\">\n",
    "</div>'''\n",
    "display(HTML(html_code))"
   ]
  },
  {
   "cell_type": "markdown",
   "id": "4fa15bb8",
   "metadata": {},
   "source": [
    "<h3 style=\"font-size: 30px; color: #C1772D; font-weight: bold; text-align: left;\">Orientation results</h3>"
   ]
  },
  {
   "cell_type": "code",
   "execution_count": 12,
   "id": "9c90d270",
   "metadata": {},
   "outputs": [
    {
     "data": {
      "text/html": [
       "\n",
       "<div style=\"text-align:center;\">\n",
       "    <img src=\"Experiment_1/Quaternion Results Based on Separated Cost.png\" width=\"600\" style=\"margin-right: 20px;\">\n",
       "    <img src=\"Experiment_1/Quaternion Results Based On LieAlgebra Cost.png\" width=\"600\">\n",
       "</div>"
      ],
      "text/plain": [
       "<IPython.core.display.HTML object>"
      ]
     },
     "metadata": {},
     "output_type": "display_data"
    }
   ],
   "source": [
    "# Paths and widths for the two images\n",
    "image_path1 = 'Experiment_1/Quaternion Results Based on Separated Cost.png'\n",
    "image_path2 = 'Experiment_1/Quaternion Results Based On LieAlgebra Cost.png'\n",
    "image_width1 = 600\n",
    "image_width2 = 600\n",
    "\n",
    "# HTML code to display both images, centered\n",
    "html_code = f'''\n",
    "<div style=\"text-align:center;\">\n",
    "    <img src=\"{image_path1}\" width=\"{image_width1}\" style=\"margin-right: 20px;\">\n",
    "    <img src=\"{image_path2}\" width=\"{image_width2}\">\n",
    "</div>'''\n",
    "display(HTML(html_code))"
   ]
  },
  {
   "cell_type": "markdown",
   "id": "43b6d9a2",
   "metadata": {},
   "source": [
    "<h3 style=\"font-size: 30px; color: #C1772D; font-weight: bold; text-align: left;\">Control Actions</h3>"
   ]
  },
  {
   "cell_type": "code",
   "execution_count": 13,
   "id": "9d08dac2",
   "metadata": {},
   "outputs": [
    {
     "data": {
      "text/html": [
       "\n",
       "<div style=\"text-align:center;\">\n",
       "    <img src=\"Experiment_1/Control Actions of the System Based on Separed Cost Function.png\" width=\"600\" style=\"margin-right: 20px;\">\n",
       "    <img src=\"Experiment_1/Control Actions of the System Based On LieAlgebra Cost.png\" width=\"600\">\n",
       "</div>"
      ],
      "text/plain": [
       "<IPython.core.display.HTML object>"
      ]
     },
     "metadata": {},
     "output_type": "display_data"
    }
   ],
   "source": [
    "# Paths and widths for the two images\n",
    "image_path1 = 'Experiment_1/Control Actions of the System Based on Separed Cost Function.png'\n",
    "image_path2 = 'Experiment_1/Control Actions of the System Based On LieAlgebra Cost.png'\n",
    "image_width1 = 600\n",
    "image_width2 = 600\n",
    "\n",
    "# HTML code to display both images, centered\n",
    "html_code = f'''\n",
    "<div style=\"text-align:center;\">\n",
    "    <img src=\"{image_path1}\" width=\"{image_width1}\" style=\"margin-right: 20px;\">\n",
    "    <img src=\"{image_path2}\" width=\"{image_width2}\">\n",
    "</div>'''\n",
    "display(HTML(html_code))"
   ]
  },
  {
   "cell_type": "code",
   "execution_count": null,
   "id": "2f3589b0",
   "metadata": {},
   "outputs": [],
   "source": []
  },
  {
   "cell_type": "code",
   "execution_count": null,
   "id": "f910442f",
   "metadata": {},
   "outputs": [],
   "source": []
  },
  {
   "cell_type": "code",
   "execution_count": null,
   "id": "d28a5ea9",
   "metadata": {},
   "outputs": [],
   "source": []
  },
  {
   "cell_type": "code",
   "execution_count": null,
   "id": "4f739f10",
   "metadata": {},
   "outputs": [],
   "source": []
  },
  {
   "cell_type": "code",
   "execution_count": null,
   "id": "3a58cab4",
   "metadata": {},
   "outputs": [],
   "source": []
  },
  {
   "cell_type": "code",
   "execution_count": null,
   "id": "c4ea77d6",
   "metadata": {},
   "outputs": [],
   "source": []
  },
  {
   "cell_type": "code",
   "execution_count": null,
   "id": "62669c3f",
   "metadata": {},
   "outputs": [],
   "source": []
  },
  {
   "cell_type": "code",
   "execution_count": null,
   "id": "cefbd997",
   "metadata": {},
   "outputs": [],
   "source": []
  },
  {
   "cell_type": "code",
   "execution_count": null,
   "id": "fab3ebf0",
   "metadata": {},
   "outputs": [],
   "source": []
  },
  {
   "cell_type": "code",
   "execution_count": null,
   "id": "97a4b6ed",
   "metadata": {},
   "outputs": [],
   "source": []
  },
  {
   "cell_type": "code",
   "execution_count": null,
   "id": "ded60683",
   "metadata": {},
   "outputs": [],
   "source": []
  },
  {
   "cell_type": "code",
   "execution_count": null,
   "id": "ee5d9504",
   "metadata": {},
   "outputs": [],
   "source": []
  },
  {
   "cell_type": "code",
   "execution_count": null,
   "id": "eab0573f",
   "metadata": {},
   "outputs": [],
   "source": []
  },
  {
   "cell_type": "code",
   "execution_count": null,
   "id": "68096eb4",
   "metadata": {},
   "outputs": [],
   "source": []
  },
  {
   "cell_type": "code",
   "execution_count": null,
   "id": "b7b66e62",
   "metadata": {},
   "outputs": [],
   "source": []
  },
  {
   "cell_type": "code",
   "execution_count": null,
   "id": "0208b4fc",
   "metadata": {},
   "outputs": [],
   "source": []
  },
  {
   "cell_type": "code",
   "execution_count": null,
   "id": "a0ef9d88",
   "metadata": {},
   "outputs": [],
   "source": []
  },
  {
   "cell_type": "code",
   "execution_count": null,
   "id": "f9d6262d",
   "metadata": {},
   "outputs": [],
   "source": []
  },
  {
   "cell_type": "code",
   "execution_count": null,
   "id": "4e01cdfb",
   "metadata": {},
   "outputs": [],
   "source": []
  },
  {
   "cell_type": "code",
   "execution_count": null,
   "id": "7406c127",
   "metadata": {},
   "outputs": [],
   "source": []
  },
  {
   "cell_type": "code",
   "execution_count": null,
   "id": "e75e58a4",
   "metadata": {},
   "outputs": [],
   "source": []
  },
  {
   "cell_type": "code",
   "execution_count": null,
   "id": "9b7f599d",
   "metadata": {},
   "outputs": [],
   "source": []
  },
  {
   "cell_type": "code",
   "execution_count": null,
   "id": "70318618",
   "metadata": {},
   "outputs": [],
   "source": []
  },
  {
   "cell_type": "code",
   "execution_count": null,
   "id": "cf7118c5",
   "metadata": {},
   "outputs": [],
   "source": []
  },
  {
   "cell_type": "code",
   "execution_count": null,
   "id": "0cca5d98",
   "metadata": {},
   "outputs": [],
   "source": []
  },
  {
   "cell_type": "code",
   "execution_count": null,
   "id": "38ff3668",
   "metadata": {},
   "outputs": [],
   "source": []
  },
  {
   "cell_type": "code",
   "execution_count": null,
   "id": "40bfa290",
   "metadata": {},
   "outputs": [],
   "source": []
  },
  {
   "cell_type": "code",
   "execution_count": null,
   "id": "0328a1c3",
   "metadata": {},
   "outputs": [],
   "source": []
  },
  {
   "cell_type": "code",
   "execution_count": null,
   "id": "229eab4e",
   "metadata": {},
   "outputs": [],
   "source": []
  },
  {
   "cell_type": "code",
   "execution_count": null,
   "id": "7086675d",
   "metadata": {},
   "outputs": [],
   "source": []
  },
  {
   "cell_type": "code",
   "execution_count": null,
   "id": "d61d1ccf",
   "metadata": {},
   "outputs": [],
   "source": []
  },
  {
   "cell_type": "code",
   "execution_count": null,
   "id": "9b68c803",
   "metadata": {},
   "outputs": [],
   "source": []
  },
  {
   "cell_type": "code",
   "execution_count": null,
   "id": "0a20829d",
   "metadata": {},
   "outputs": [],
   "source": []
  },
  {
   "cell_type": "code",
   "execution_count": null,
   "id": "749e1344",
   "metadata": {},
   "outputs": [],
   "source": []
  },
  {
   "cell_type": "code",
   "execution_count": null,
   "id": "a21fe4ef",
   "metadata": {},
   "outputs": [],
   "source": []
  },
  {
   "cell_type": "code",
   "execution_count": null,
   "id": "e0ebfa35",
   "metadata": {},
   "outputs": [],
   "source": []
  },
  {
   "cell_type": "code",
   "execution_count": null,
   "id": "28e0661d",
   "metadata": {},
   "outputs": [],
   "source": []
  },
  {
   "cell_type": "code",
   "execution_count": null,
   "id": "eddbb694",
   "metadata": {},
   "outputs": [],
   "source": []
  },
  {
   "cell_type": "code",
   "execution_count": null,
   "id": "32d04d19",
   "metadata": {},
   "outputs": [],
   "source": []
  },
  {
   "cell_type": "code",
   "execution_count": null,
   "id": "3812fffe",
   "metadata": {},
   "outputs": [],
   "source": []
  },
  {
   "cell_type": "code",
   "execution_count": null,
   "id": "ce750c18",
   "metadata": {},
   "outputs": [],
   "source": []
  },
  {
   "cell_type": "code",
   "execution_count": null,
   "id": "863ad73c",
   "metadata": {},
   "outputs": [],
   "source": []
  },
  {
   "cell_type": "code",
   "execution_count": null,
   "id": "40ec6ad7",
   "metadata": {},
   "outputs": [],
   "source": []
  },
  {
   "cell_type": "code",
   "execution_count": null,
   "id": "5363f7e9",
   "metadata": {},
   "outputs": [],
   "source": []
  },
  {
   "cell_type": "code",
   "execution_count": null,
   "id": "2a15ec97",
   "metadata": {},
   "outputs": [],
   "source": []
  },
  {
   "cell_type": "code",
   "execution_count": null,
   "id": "24d0a8cd",
   "metadata": {},
   "outputs": [],
   "source": []
  },
  {
   "cell_type": "code",
   "execution_count": null,
   "id": "4ce2cb12",
   "metadata": {},
   "outputs": [],
   "source": []
  },
  {
   "cell_type": "code",
   "execution_count": null,
   "id": "35c1f3c4",
   "metadata": {},
   "outputs": [],
   "source": []
  },
  {
   "cell_type": "code",
   "execution_count": null,
   "id": "7e42666b",
   "metadata": {},
   "outputs": [],
   "source": []
  },
  {
   "cell_type": "code",
   "execution_count": null,
   "id": "4792c697",
   "metadata": {},
   "outputs": [],
   "source": []
  },
  {
   "cell_type": "code",
   "execution_count": null,
   "id": "e643780f",
   "metadata": {},
   "outputs": [],
   "source": []
  },
  {
   "cell_type": "code",
   "execution_count": null,
   "id": "9494d118",
   "metadata": {},
   "outputs": [],
   "source": []
  },
  {
   "cell_type": "code",
   "execution_count": null,
   "id": "00f43e7f",
   "metadata": {},
   "outputs": [],
   "source": []
  },
  {
   "cell_type": "code",
   "execution_count": null,
   "id": "10ae7e03",
   "metadata": {},
   "outputs": [],
   "source": []
  },
  {
   "cell_type": "code",
   "execution_count": null,
   "id": "4cf25602",
   "metadata": {},
   "outputs": [],
   "source": []
  },
  {
   "cell_type": "code",
   "execution_count": null,
   "id": "9cb5b02f",
   "metadata": {},
   "outputs": [],
   "source": []
  },
  {
   "cell_type": "code",
   "execution_count": null,
   "id": "9801fd38",
   "metadata": {},
   "outputs": [],
   "source": []
  },
  {
   "cell_type": "code",
   "execution_count": null,
   "id": "6595d757",
   "metadata": {},
   "outputs": [],
   "source": []
  },
  {
   "cell_type": "code",
   "execution_count": null,
   "id": "f008b9b8",
   "metadata": {},
   "outputs": [],
   "source": []
  },
  {
   "cell_type": "code",
   "execution_count": null,
   "id": "bf2c8ee6",
   "metadata": {},
   "outputs": [],
   "source": []
  },
  {
   "cell_type": "code",
   "execution_count": null,
   "id": "f4b396af",
   "metadata": {},
   "outputs": [],
   "source": []
  },
  {
   "cell_type": "code",
   "execution_count": null,
   "id": "16077d20",
   "metadata": {},
   "outputs": [],
   "source": []
  },
  {
   "cell_type": "code",
   "execution_count": null,
   "id": "6de921bc",
   "metadata": {},
   "outputs": [],
   "source": []
  },
  {
   "cell_type": "code",
   "execution_count": null,
   "id": "5b41307f",
   "metadata": {},
   "outputs": [],
   "source": []
  },
  {
   "cell_type": "code",
   "execution_count": null,
   "id": "92aea756",
   "metadata": {},
   "outputs": [],
   "source": []
  },
  {
   "cell_type": "code",
   "execution_count": null,
   "id": "ca2193b7",
   "metadata": {},
   "outputs": [],
   "source": []
  },
  {
   "cell_type": "code",
   "execution_count": null,
   "id": "46a0a8ce",
   "metadata": {},
   "outputs": [],
   "source": []
  },
  {
   "cell_type": "code",
   "execution_count": null,
   "id": "e42f24f1",
   "metadata": {},
   "outputs": [],
   "source": []
  },
  {
   "cell_type": "code",
   "execution_count": null,
   "id": "f927ae6d",
   "metadata": {},
   "outputs": [],
   "source": []
  },
  {
   "cell_type": "code",
   "execution_count": null,
   "id": "5f8f4734",
   "metadata": {},
   "outputs": [],
   "source": []
  },
  {
   "cell_type": "code",
   "execution_count": null,
   "id": "65aefb76",
   "metadata": {},
   "outputs": [],
   "source": []
  },
  {
   "cell_type": "code",
   "execution_count": null,
   "id": "cf59b96a",
   "metadata": {},
   "outputs": [],
   "source": []
  }
 ],
 "metadata": {
  "kernelspec": {
   "display_name": "Python 3 (ipykernel)",
   "language": "python",
   "name": "python3"
  },
  "language_info": {
   "codemirror_mode": {
    "name": "ipython",
    "version": 3
   },
   "file_extension": ".py",
   "mimetype": "text/x-python",
   "name": "python",
   "nbconvert_exporter": "python",
   "pygments_lexer": "ipython3",
   "version": "3.8.16"
  }
 },
 "nbformat": 4,
 "nbformat_minor": 5
}
